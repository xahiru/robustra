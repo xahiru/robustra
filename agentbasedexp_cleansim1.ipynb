{
 "cells": [
  {
   "cell_type": "code",
   "execution_count": 2,
   "metadata": {},
   "outputs": [],
   "source": [
    "class User:\n",
    "    def __init__(self, name, label=\"none\"): \n",
    "        self.id = name\n",
    "        self.label = label\n",
    "        self.advisors = [] #neighbors\n",
    "        self.providers = []\n",
    "        self.interactions = {}\n",
    "        self.total_interactions = 0\n",
    "        self.provider_raputation = {}\n",
    "        self.advisor_reputation = {}\n",
    "        self.decay = 1 #longitivity\n",
    "        self.phi = 0.5 #w\n",
    "        self.epsilon = 1 #uncertainity\n",
    "        self.limit = 0 #tolarance limit\n",
    "#         self.alpha = 0.8 #consumer confidence\n",
    "        self.satisfaction = {}\n",
    "        self.disatisfaction = {}\n",
    "        self.b_satisfaction = {}\n",
    "        self.b_disatisfaction = {}\n",
    "            \n",
    "    def interact(self, provider, rating):\n",
    "        if provider.id != self.id:\n",
    "            if provider in self.providers:\n",
    "                ratelist = self.interactions[provider]\n",
    "            else:\n",
    "                ratelist = []\n",
    "                self.providers.append(provider)\n",
    "\n",
    "            ratelist.append(rating)\n",
    "            self.interactions[provider] = ratelist\n",
    "            self.total_interactions += 1\n",
    "\n",
    "            self.eval_provider(provider, rating)\n",
    "            self.eval_provider(provider, rating, bayes = True)\n",
    "        else:\n",
    "            print('I cant interact with myself')\n",
    "        \n",
    "        \n",
    "    def eval_provider(self, provider, rating, bayes = False):\n",
    "        exp_val_n = len(self.interactions[provider])\n",
    "\n",
    "        rj = (1- rating) * self.phi #disatisfaction self.phi = w, rj = ds\n",
    "        sj = (1+ rating) * self.phi #satisfaction self.phi = w  sj = sj\n",
    "        \n",
    "        if bayes:\n",
    "            if provider in self.b_satisfaction:\n",
    "                cumilative_satisfaction = self.b_satisfaction[provider]\n",
    "                cumilative_disatisfaction = self.b_disatisfaction[provider]\n",
    "                cumilative_satisfaction += sj\n",
    "                cumilative_disatisfaction += rj\n",
    "            else:\n",
    "                cumilative_satisfaction = sj\n",
    "                cumilative_disatisfaction = rj\n",
    "            self.b_satisfaction[provider] = cumilative_satisfaction\n",
    "            self.b_disatisfaction[provider] = cumilative_disatisfaction\n",
    "        else:\n",
    "            decay_factor = self.decay **(exp_val_n - self.limit)\n",
    "            rj *= decay_factor\n",
    "            sj *= decay_factor\n",
    "            self.limit += 1\n",
    "            if provider in self.satisfaction:\n",
    "                cumilative_satisfaction = self.satisfaction[provider]\n",
    "                cumilative_disatisfaction = self.disatisfaction[provider]\n",
    "                cumilative_satisfaction += sj\n",
    "                cumilative_disatisfaction +=rj\n",
    "            else:\n",
    "                cumilative_satisfaction = sj\n",
    "                cumilative_disatisfaction = rj\n",
    "            self.satisfaction[provider] = cumilative_satisfaction\n",
    "            self.disatisfaction[provider] = cumilative_disatisfaction\n",
    "        \n",
    "        self.get_belief(provider)\n",
    "    \n",
    "    def get_belief(self, provider):\n",
    "            cum_sat = self.satisfaction[provider]\n",
    "            cum_dis = self.disatisfaction[provider]\n",
    "            total_sat_dit = cum_dis+cum_sat\n",
    "            den = total_sat_dit + self.epsilon \n",
    "            belief = cum_sat /(den)\n",
    "            disbelief = cum_dis /(den)\n",
    "            uncertainity = self.epsilon / (den)\n",
    "            \n",
    "        \n",
    "            return belief, disbelief, uncertainity\n",
    "        \n",
    "        \n",
    "    def provider_raputation(self, provider):\n",
    "        return provider_raputation[provider]\n",
    "    \n",
    "    def get_providers(self):\n",
    "        return self.providers\n",
    "        \n",
    "\n",
    "    def get_similarity(self, advisor):\n",
    "\n",
    "        \n",
    "        common_providers = [x for x in advisor.get_providers() if x in self.get_providers()]\n",
    "        similarity = -100 #note this is just for checking if the advisor has a common vendor\n",
    "        \n",
    "        if len(common_providers) > 0:\n",
    "            cum_dist = 0\n",
    "            for p in common_providers:\n",
    "                    \n",
    "                    a_bel, a_disbel, a_unc = self.get_belief(p)\n",
    "                    b_bel, b_disbel, b_unc = advisor.get_belief(p)\n",
    "                    nonsqrt= self.get_distance(advisor, p)\n",
    "                    dist = nonsqrt** (1/2)\n",
    "                    dist = dist/(2**(1/2))\n",
    "                    cum_dist += dist\n",
    "            meanormilsed_distance = cum_dist/len(common_providers)\n",
    "            similarity = 1 - meanormilsed_distance\n",
    "        return similarity\n",
    "    \n",
    "    def get_distance(self, advisor, p):\n",
    "        a_bel, a_disbel, a_unc = self.get_belief(p)\n",
    "        b_bel, b_disbel, b_unc = advisor.get_belief(p)\n",
    "        nonsqrt=((a_bel - b_bel)**2) + ((a_disbel - b_disbel)**2) + ((a_unc - b_unc)**2)\n",
    "        return nonsqrt\n",
    "            \n",
    "    def get_global_crediblity(self):\n",
    "        cum_bel = 0;\n",
    "        for p in self.providers:\n",
    "            b ,_ , _ = p.get_belief(self)\n",
    "            cum_bel += b\n",
    "        return cum_bel/len(self.providers)\n",
    "            \n",
    "    \n",
    "    def set_adivsors(self, neigbors):\n",
    "        self.advisors = neigbors\n",
    "    def add_an_adivsor(self, neigbor):\n",
    "        self.advisors.append(neigbor)\n",
    "    \n",
    "    def get_id(self):\n",
    "        self.id\n",
    "    \n",
    "\n",
    "    def my_bayes(self, p):\n",
    "        sat = 0\n",
    "        dis = 0\n",
    "        if p in self.b_satisfaction:\n",
    "            sat = self.b_satisfaction[p]\n",
    "            dis = self.b_disatisfaction[p]\n",
    "        return sat, dis\n",
    "    \n",
    "\n",
    "    \n",
    "    def p_g_reputation(self, provider, all_advisors, alpha = 0.8, filter_threshold = 0.5):\n",
    "        sim_count = 0\n",
    "        gc_count = 0\n",
    "        p_rep = 0\n",
    "        g_rep = 0\n",
    "        for a in all_advisors:\n",
    "            if a.id != self.id:\n",
    "                ap_bel, _, _ = a.get_belief(provider)\n",
    "                sim = self.get_similarity(a)\n",
    "                if sim != -100: #meaning have no common vendos\n",
    "                    sim_count += 1\n",
    "                    if sim > filter_threshold:\n",
    "                        p_rep += (sim * ap_bel)\n",
    "                else:\n",
    "                    gc = a.get_global_crediblity()\n",
    "                    g_rep += (gc * ap_bel)\n",
    "        reputation = 0\n",
    "        \n",
    "        if sim_count > 0:\n",
    "            reputation = (alpha * p_rep)/sim_count\n",
    "\n",
    "        if (len(all_advisors) - sim_count) > 0:\n",
    "            reputation += ((1 - alpha) * g_rep)/(len(all_advisors) - sim_count)\n",
    "        return reputation\n",
    "        \n",
    "    \n",
    "        "
   ]
  },
  {
   "cell_type": "code",
   "execution_count": 3,
   "metadata": {},
   "outputs": [],
   "source": [
    "class Consumer(User):\n",
    "    def __init__(self, name, label=\"C\"):\n",
    "        User.__init__(self,name, label)\n",
    "        \n",
    "\n",
    "class Producer(User):\n",
    "    def __init__(self, name, label=\"P\"):\n",
    "        User.__init__(self,name, label)\n",
    "\n",
    "# class Advisor(Users):\n",
    "#     def __init__(self, name):\n",
    "#         Users.__init__(self,name)"
   ]
  },
  {
   "cell_type": "code",
   "execution_count": 4,
   "metadata": {},
   "outputs": [
    {
     "name": "stdout",
     "output_type": "stream",
     "text": [
      "100\n",
      "200\n",
      "101\n",
      "102\n",
      "202\n",
      "103\n",
      "104\n",
      "204\n",
      "105\n",
      "106\n",
      "206\n",
      "107\n",
      "108\n",
      "208\n",
      "109\n",
      "110\n",
      "210\n"
     ]
    }
   ],
   "source": [
    "l_consumers = {}\n",
    "l_producers = {}\n",
    "consumer_id_start_range = 100\n",
    "producer_id_start_range = 200\n",
    "for x in range(11):\n",
    "    print(consumer_id_start_range+x)\n",
    "    name ='C'+str(x+1)\n",
    "    c = Consumer(consumer_id_start_range+x, name)\n",
    "    l_consumers[consumer_id_start_range+x] = c\n",
    "    if x % 2 == 0:\n",
    "        print(producer_id_start_range+x)\n",
    "        p = Producer(producer_id_start_range+x)\n",
    "        l_producers[producer_id_start_range+x] = p\n",
    "    "
   ]
  },
  {
   "cell_type": "code",
   "execution_count": 5,
   "metadata": {},
   "outputs": [
    {
     "data": {
      "text/plain": [
       "11"
      ]
     },
     "execution_count": 5,
     "metadata": {},
     "output_type": "execute_result"
    }
   ],
   "source": [
    "len(l_consumers)"
   ]
  },
  {
   "cell_type": "code",
   "execution_count": 6,
   "metadata": {},
   "outputs": [],
   "source": []
  },
  {
   "cell_type": "code",
   "execution_count": 7,
   "metadata": {},
   "outputs": [],
   "source": [
    "def agree(c, p, n_interactions, rate=1):\n",
    "    for i in range(n_interactions):\n",
    "        c.interact(p, rate)\n",
    "        p.interact(c, rate)\n",
    "\n",
    "def disagree(c, p, n_interactions,rate=-1):\n",
    "    agree(c, p, n_interactions,rate)\n",
    "\n",
    "def c_agree_p_disagree(c, p, n_interactions, p_rate=1, n_rate=-1):\n",
    "    for i in range(n_interactions):\n",
    "        c.interact(p, p_rate)\n",
    "        p.interact(c, n_rate)\n",
    "\n",
    "def p_agree_c_disagree(c, p, n_interactions, p_rate=1, n_rate=-1):\n",
    "    for i in range(n_interactions):\n",
    "        c.interact(p, n_rate)\n",
    "        p.interact(c, p_rate)\n",
    "    "
   ]
  },
  {
   "cell_type": "code",
   "execution_count": 8,
   "metadata": {},
   "outputs": [],
   "source": [
    "c1 = l_consumers[100]\n",
    "c2 = l_consumers[101]\n",
    "c3 = l_consumers[102]\n",
    "c4 = l_consumers[103]\n",
    "c5 = l_consumers[104]\n",
    "c6 = l_consumers[105]\n",
    "c7 = l_consumers[106]\n",
    "c8 = l_consumers[107]\n",
    "c9 = l_consumers[108]\n",
    "c10 = l_consumers[109]\n",
    "c11 = l_consumers[110]\n",
    "\n",
    "x = l_producers[200]\n",
    "y = l_producers[202]\n",
    "z = l_producers[204]\n",
    "u = l_producers[206]\n",
    "v = l_producers[208]"
   ]
  },
  {
   "cell_type": "code",
   "execution_count": 9,
   "metadata": {},
   "outputs": [],
   "source": [
    "agree(c1, x, 15)\n",
    "\n",
    "p_agree_c_disagree(c1, y, 1)\n",
    "disagree(c1, y, 9)\n",
    "\n",
    "p_agree_c_disagree(c1, z, 2)\n",
    "disagree(c1, z, 8)\n",
    "\n",
    "p_agree_c_disagree(c1, u, 1)\n",
    "disagree(c1, u, 9)\n",
    "\n",
    "p_agree_c_disagree(c1, v, 2)\n",
    "disagree(c1, v, 8)"
   ]
  },
  {
   "cell_type": "code",
   "execution_count": 10,
   "metadata": {},
   "outputs": [],
   "source": [
    "agree(c2, x, 15)\n",
    "\n",
    "p_agree_c_disagree(c2, y, 1)\n",
    "disagree(c2, y, 9)\n",
    "\n",
    "p_agree_c_disagree(c2, z, 1)\n",
    "disagree(c2, z, 9)\n",
    "\n",
    "p_agree_c_disagree(c2, u, 2)\n",
    "disagree(c2, u, 8)\n",
    "\n",
    "p_agree_c_disagree(c2, v, 2)\n",
    "disagree(c2, v, 8)\n"
   ]
  },
  {
   "cell_type": "code",
   "execution_count": 11,
   "metadata": {},
   "outputs": [],
   "source": [
    "agree(c3, x, 15)\n",
    "\n",
    "p_agree_c_disagree(c3, y, 2)\n",
    "disagree(c3, y, 8)\n",
    "\n",
    "p_agree_c_disagree(c3, z, 2)\n",
    "disagree(c3, z, 8)\n",
    "\n",
    "p_agree_c_disagree(c3, u, 1)\n",
    "disagree(c3, u, 9)\n",
    "\n",
    "p_agree_c_disagree(c3, v, 2)\n",
    "disagree(c3, v, 8)"
   ]
  },
  {
   "cell_type": "code",
   "execution_count": 12,
   "metadata": {},
   "outputs": [],
   "source": [
    "agree(c4, x, 15)\n",
    "p_agree_c_disagree(c4, y, 1)\n",
    "disagree(c4, y, 9)\n",
    "\n",
    "p_agree_c_disagree(c4, z, 1)\n",
    "disagree(c4, z, 9)\n",
    "\n",
    "p_agree_c_disagree(c4, u, 1)\n",
    "disagree(c4, u, 9)\n",
    "\n",
    "p_agree_c_disagree(c4, v, 2)\n",
    "disagree(c4, v, 8)"
   ]
  },
  {
   "cell_type": "code",
   "execution_count": 13,
   "metadata": {},
   "outputs": [],
   "source": [
    "disagree(c5, x, 1)\n",
    "p_agree_c_disagree(c5, y, 5)\n",
    "agree(c5, y, 1)\n",
    "agree(c5, z, 3)\n",
    "p_agree_c_disagree(c5, z, 1)\n",
    "disagree(c5, z, 1)"
   ]
  },
  {
   "cell_type": "code",
   "execution_count": 14,
   "metadata": {},
   "outputs": [],
   "source": [
    "disagree(c6, x, 2)\n",
    "agree(c6, y, 6)\n",
    "agree(c6, z, 2)\n",
    "p_agree_c_disagree(c6, z, 1)\n",
    "disagree(c6, z, 1)"
   ]
  },
  {
   "cell_type": "code",
   "execution_count": 15,
   "metadata": {},
   "outputs": [],
   "source": [
    "disagree(c7, x, 3)\n",
    "agree(c7, y, 9)\n",
    "disagree(c7, y, 4)\n",
    "p_agree_c_disagree(c7, y, 1)\n",
    "agree(c7, z, 5)"
   ]
  },
  {
   "cell_type": "code",
   "execution_count": 16,
   "metadata": {},
   "outputs": [],
   "source": [
    "agree(c8, x, 15)\n",
    "disagree(c8, u, 9)\n",
    "p_agree_c_disagree(c8, u, 1)\n",
    "disagree(c8, v, 9)\n",
    "p_agree_c_disagree(c8, v, 1)"
   ]
  },
  {
   "cell_type": "code",
   "execution_count": 17,
   "metadata": {},
   "outputs": [],
   "source": [
    "agree(c9, x, 15)\n",
    "disagree(c9, u, 9)\n",
    "p_agree_c_disagree(c9, u, 1)\n",
    "disagree(c9, v, 9)\n",
    "p_agree_c_disagree(c9, v, 1)"
   ]
  },
  {
   "cell_type": "code",
   "execution_count": 18,
   "metadata": {},
   "outputs": [],
   "source": [
    "disagree(c10, x, 2)\n",
    "agree(c10, u, 6)\n",
    "disagree(c10, u, 3)\n",
    "p_agree_c_disagree(c10, u, 1)\n",
    "agree(c10, v, 6)\n",
    "disagree(c10, v, 5)\n",
    "p_agree_c_disagree(c10, u, 1)"
   ]
  },
  {
   "cell_type": "code",
   "execution_count": 19,
   "metadata": {},
   "outputs": [],
   "source": [
    "agree(c11, y, 9)\n",
    "agree(c11, z, 4)\n",
    "disagree(c11, z, 3)\n",
    "p_agree_c_disagree(c11, z, 1)"
   ]
  },
  {
   "cell_type": "code",
   "execution_count": null,
   "metadata": {},
   "outputs": [],
   "source": []
  },
  {
   "cell_type": "code",
   "execution_count": 24,
   "metadata": {},
   "outputs": [
    {
     "name": "stdout",
     "output_type": "stream",
     "text": [
      "For user = C1,100 S = 15.0 D = 0.0\n",
      "For user = C2,101 S = 15.0 D = 0.0\n",
      "For user = C3,102 S = 15.0 D = 0.0\n",
      "For user = C4,103 S = 15.0 D = 0.0\n",
      "For user = C5,104 S = 0.0 D = 1.0\n",
      "For user = C6,105 S = 0.0 D = 2.0\n",
      "For user = C7,106 S = 0.0 D = 3.0\n",
      "For user = C8,107 S = 15.0 D = 0.0\n",
      "For user = C9,108 S = 15.0 D = 0.0\n",
      "For user = C10,109 S = 0.0 D = 2.0\n",
      "For user = C11,110 S = 0 D = 0\n",
      "90.0/98.0\n"
     ]
    }
   ],
   "source": [
    "\n",
    "cum_sat = 0\n",
    "cum_dis = 0\n",
    "for _, cm in l_consumers.items():\n",
    "#     print(cm.id)\n",
    "    s, d = cm.my_bayes(x)\n",
    "    print('For user = '+str(cm.label)+','+str(cm.id)+' S = '+str(s)+\" D = \"+str(d))\n",
    "    \n",
    "    cum_sat += s\n",
    "    cum_dis += d\n",
    "print(str(cum_sat)+'/'+str(cum_sat+ cum_dis))\n",
    "bayes = (1 + cum_sat) / (2 + (cum_sat+ cum_dis))"
   ]
  },
  {
   "cell_type": "code",
   "execution_count": 25,
   "metadata": {},
   "outputs": [
    {
     "data": {
      "text/plain": [
       "0.91"
      ]
     },
     "execution_count": 25,
     "metadata": {},
     "output_type": "execute_result"
    }
   ],
   "source": [
    "bayes"
   ]
  },
  {
   "cell_type": "code",
   "execution_count": null,
   "metadata": {},
   "outputs": [],
   "source": []
  },
  {
   "cell_type": "code",
   "execution_count": 26,
   "metadata": {},
   "outputs": [
    {
     "data": {
      "text/plain": [
       "(0.9375, 0.0, 0.0625)"
      ]
     },
     "execution_count": 26,
     "metadata": {},
     "output_type": "execute_result"
    }
   ],
   "source": [
    "c1.get_belief(x)"
   ]
  },
  {
   "cell_type": "code",
   "execution_count": 27,
   "metadata": {},
   "outputs": [
    {
     "data": {
      "text/plain": [
       "(0.9375, 0.0, 0.0625)"
      ]
     },
     "execution_count": 27,
     "metadata": {},
     "output_type": "execute_result"
    }
   ],
   "source": [
    "c2.get_belief(x)"
   ]
  },
  {
   "cell_type": "code",
   "execution_count": 28,
   "metadata": {},
   "outputs": [
    {
     "data": {
      "text/plain": [
       "(0.9375, 0.0, 0.0625)"
      ]
     },
     "execution_count": 28,
     "metadata": {},
     "output_type": "execute_result"
    }
   ],
   "source": [
    "c3.get_belief(x)"
   ]
  },
  {
   "cell_type": "code",
   "execution_count": 29,
   "metadata": {},
   "outputs": [
    {
     "data": {
      "text/plain": [
       "(0.9375, 0.0, 0.0625)"
      ]
     },
     "execution_count": 29,
     "metadata": {},
     "output_type": "execute_result"
    }
   ],
   "source": [
    "c4.get_belief(x)"
   ]
  },
  {
   "cell_type": "code",
   "execution_count": 30,
   "metadata": {},
   "outputs": [
    {
     "data": {
      "text/plain": [
       "(0.0, 0.5, 0.5)"
      ]
     },
     "execution_count": 30,
     "metadata": {},
     "output_type": "execute_result"
    }
   ],
   "source": [
    "c5.get_belief(x)"
   ]
  },
  {
   "cell_type": "code",
   "execution_count": 31,
   "metadata": {},
   "outputs": [
    {
     "data": {
      "text/plain": [
       "(0.0, 0.6666666666666666, 0.3333333333333333)"
      ]
     },
     "execution_count": 31,
     "metadata": {},
     "output_type": "execute_result"
    }
   ],
   "source": [
    "c6.get_belief(x)"
   ]
  },
  {
   "cell_type": "code",
   "execution_count": 32,
   "metadata": {},
   "outputs": [
    {
     "data": {
      "text/plain": [
       "(0.0, 0.6666666666666666, 0.3333333333333333)"
      ]
     },
     "execution_count": 32,
     "metadata": {},
     "output_type": "execute_result"
    }
   ],
   "source": [
    "c10.get_belief(x)"
   ]
  },
  {
   "cell_type": "code",
   "execution_count": 33,
   "metadata": {},
   "outputs": [
    {
     "data": {
      "text/plain": [
       "(0.9375, 0.0, 0.0625)"
      ]
     },
     "execution_count": 33,
     "metadata": {},
     "output_type": "execute_result"
    }
   ],
   "source": [
    "c9.get_belief(x)"
   ]
  },
  {
   "cell_type": "code",
   "execution_count": 34,
   "metadata": {},
   "outputs": [
    {
     "data": {
      "text/plain": [
       "(0.9375, 0.0, 0.0625)"
      ]
     },
     "execution_count": 34,
     "metadata": {},
     "output_type": "execute_result"
    }
   ],
   "source": [
    "c8.get_belief(x)"
   ]
  },
  {
   "cell_type": "code",
   "execution_count": 35,
   "metadata": {},
   "outputs": [
    {
     "data": {
      "text/plain": [
       "(0.9, 0.0, 0.1)"
      ]
     },
     "execution_count": 35,
     "metadata": {},
     "output_type": "execute_result"
    }
   ],
   "source": [
    "c11.get_belief(y)"
   ]
  },
  {
   "cell_type": "code",
   "execution_count": 36,
   "metadata": {},
   "outputs": [
    {
     "data": {
      "text/plain": [
       "(0.4444444444444444, 0.4444444444444444, 0.1111111111111111)"
      ]
     },
     "execution_count": 36,
     "metadata": {},
     "output_type": "execute_result"
    }
   ],
   "source": [
    "c11.get_belief(z)"
   ]
  },
  {
   "cell_type": "code",
   "execution_count": 37,
   "metadata": {},
   "outputs": [
    {
     "data": {
      "text/plain": [
       "(0.0, 0.9090909090909091, 0.09090909090909091)"
      ]
     },
     "execution_count": 37,
     "metadata": {},
     "output_type": "execute_result"
    }
   ],
   "source": [
    "c1.get_belief(y)"
   ]
  },
  {
   "cell_type": "code",
   "execution_count": 38,
   "metadata": {},
   "outputs": [
    {
     "data": {
      "text/plain": [
       "(0.0, 0.9090909090909091, 0.09090909090909091)"
      ]
     },
     "execution_count": 38,
     "metadata": {},
     "output_type": "execute_result"
    }
   ],
   "source": [
    "c2.get_belief(y)"
   ]
  },
  {
   "cell_type": "code",
   "execution_count": 39,
   "metadata": {},
   "outputs": [
    {
     "data": {
      "text/plain": [
       "(0.0, 0.9090909090909091, 0.09090909090909091)"
      ]
     },
     "execution_count": 39,
     "metadata": {},
     "output_type": "execute_result"
    }
   ],
   "source": [
    "c3.get_belief(y)"
   ]
  },
  {
   "cell_type": "code",
   "execution_count": 40,
   "metadata": {},
   "outputs": [
    {
     "data": {
      "text/plain": [
       "(0.0, 0.9090909090909091, 0.09090909090909091)"
      ]
     },
     "execution_count": 40,
     "metadata": {},
     "output_type": "execute_result"
    }
   ],
   "source": [
    "c4.get_belief(y)"
   ]
  },
  {
   "cell_type": "code",
   "execution_count": 41,
   "metadata": {},
   "outputs": [
    {
     "data": {
      "text/plain": [
       "(0.0, 0.9090909090909091, 0.09090909090909091)"
      ]
     },
     "execution_count": 41,
     "metadata": {},
     "output_type": "execute_result"
    }
   ],
   "source": [
    "c1.get_belief(z)"
   ]
  },
  {
   "cell_type": "code",
   "execution_count": 42,
   "metadata": {},
   "outputs": [
    {
     "data": {
      "text/plain": [
       "(0.0, 0.9090909090909091, 0.09090909090909091)"
      ]
     },
     "execution_count": 42,
     "metadata": {},
     "output_type": "execute_result"
    }
   ],
   "source": [
    "c2.get_belief(z)"
   ]
  },
  {
   "cell_type": "code",
   "execution_count": 43,
   "metadata": {},
   "outputs": [
    {
     "data": {
      "text/plain": [
       "(0.0, 0.9090909090909091, 0.09090909090909091)"
      ]
     },
     "execution_count": 43,
     "metadata": {},
     "output_type": "execute_result"
    }
   ],
   "source": [
    "c3.get_belief(z)"
   ]
  },
  {
   "cell_type": "code",
   "execution_count": 44,
   "metadata": {},
   "outputs": [
    {
     "data": {
      "text/plain": [
       "(0.0, 0.9090909090909091, 0.09090909090909091)"
      ]
     },
     "execution_count": 44,
     "metadata": {},
     "output_type": "execute_result"
    }
   ],
   "source": [
    "c4.get_belief(z)"
   ]
  },
  {
   "cell_type": "code",
   "execution_count": 45,
   "metadata": {},
   "outputs": [
    {
     "data": {
      "text/plain": [
       "(0.14285714285714285, 0.7142857142857143, 0.14285714285714285)"
      ]
     },
     "execution_count": 45,
     "metadata": {},
     "output_type": "execute_result"
    }
   ],
   "source": [
    "c5.get_belief(y)"
   ]
  },
  {
   "cell_type": "code",
   "execution_count": 46,
   "metadata": {},
   "outputs": [
    {
     "data": {
      "text/plain": [
       "(0.5, 0.3333333333333333, 0.16666666666666666)"
      ]
     },
     "execution_count": 46,
     "metadata": {},
     "output_type": "execute_result"
    }
   ],
   "source": [
    "c5.get_belief(z)"
   ]
  },
  {
   "cell_type": "code",
   "execution_count": 47,
   "metadata": {},
   "outputs": [
    {
     "data": {
      "text/plain": [
       "(0.8571428571428571, 0.0, 0.14285714285714285)"
      ]
     },
     "execution_count": 47,
     "metadata": {},
     "output_type": "execute_result"
    }
   ],
   "source": [
    "c6.get_belief(y)"
   ]
  },
  {
   "cell_type": "code",
   "execution_count": 48,
   "metadata": {},
   "outputs": [
    {
     "data": {
      "text/plain": [
       "(0.4, 0.4, 0.2)"
      ]
     },
     "execution_count": 48,
     "metadata": {},
     "output_type": "execute_result"
    }
   ],
   "source": [
    "c6.get_belief(z)"
   ]
  },
  {
   "cell_type": "code",
   "execution_count": 49,
   "metadata": {},
   "outputs": [
    {
     "data": {
      "text/plain": [
       "(0.6, 0.3333333333333333, 0.06666666666666667)"
      ]
     },
     "execution_count": 49,
     "metadata": {},
     "output_type": "execute_result"
    }
   ],
   "source": [
    "c7.get_belief(y)"
   ]
  },
  {
   "cell_type": "code",
   "execution_count": 50,
   "metadata": {},
   "outputs": [
    {
     "data": {
      "text/plain": [
       "(0.8333333333333334, 0.0, 0.16666666666666666)"
      ]
     },
     "execution_count": 50,
     "metadata": {},
     "output_type": "execute_result"
    }
   ],
   "source": [
    "c7.get_belief(z)"
   ]
  },
  {
   "cell_type": "code",
   "execution_count": 51,
   "metadata": {},
   "outputs": [
    {
     "data": {
      "text/plain": [
       "0.32026912680630204"
      ]
     },
     "execution_count": 51,
     "metadata": {},
     "output_type": "execute_result"
    }
   ],
   "source": [
    "c11.get_similarity(c1)"
   ]
  },
  {
   "cell_type": "code",
   "execution_count": 52,
   "metadata": {},
   "outputs": [
    {
     "data": {
      "text/plain": [
       "0.32026912680630204"
      ]
     },
     "execution_count": 52,
     "metadata": {},
     "output_type": "execute_result"
    }
   ],
   "source": [
    "c11.get_similarity(c2)"
   ]
  },
  {
   "cell_type": "code",
   "execution_count": 53,
   "metadata": {},
   "outputs": [
    {
     "data": {
      "text/plain": [
       "0.32026912680630204"
      ]
     },
     "execution_count": 53,
     "metadata": {},
     "output_type": "execute_result"
    }
   ],
   "source": [
    "c11.get_similarity(c3)"
   ]
  },
  {
   "cell_type": "code",
   "execution_count": 54,
   "metadata": {},
   "outputs": [
    {
     "data": {
      "text/plain": [
       "0.32026912680630204"
      ]
     },
     "execution_count": 54,
     "metadata": {},
     "output_type": "execute_result"
    }
   ],
   "source": [
    "c11.get_similarity(c4)"
   ]
  },
  {
   "cell_type": "code",
   "execution_count": 55,
   "metadata": {},
   "outputs": [
    {
     "data": {
      "text/plain": [
       "0.5835625323002815"
      ]
     },
     "execution_count": 55,
     "metadata": {},
     "output_type": "execute_result"
    }
   ],
   "source": [
    "c11.get_similarity(c5)"
   ]
  },
  {
   "cell_type": "code",
   "execution_count": 56,
   "metadata": {},
   "outputs": [
    {
     "data": {
      "text/plain": [
       "0.9400814106254535"
      ]
     },
     "execution_count": 56,
     "metadata": {},
     "output_type": "execute_result"
    }
   ],
   "source": [
    "c11.get_similarity(c6)"
   ]
  },
  {
   "cell_type": "code",
   "execution_count": 57,
   "metadata": {},
   "outputs": [
    {
     "data": {
      "text/plain": [
       "0.6312925098952105"
      ]
     },
     "execution_count": 57,
     "metadata": {},
     "output_type": "execute_result"
    }
   ],
   "source": [
    "c11.get_similarity(c7)"
   ]
  },
  {
   "cell_type": "code",
   "execution_count": 58,
   "metadata": {},
   "outputs": [],
   "source": [
    "# c8.get_belief(u)"
   ]
  },
  {
   "cell_type": "code",
   "execution_count": 59,
   "metadata": {},
   "outputs": [
    {
     "data": {
      "text/plain": [
       "(0.09090909090909091, 0.8181818181818182, 0.09090909090909091)"
      ]
     },
     "execution_count": 59,
     "metadata": {},
     "output_type": "execute_result"
    }
   ],
   "source": [
    "u.get_belief(c8)"
   ]
  },
  {
   "cell_type": "code",
   "execution_count": null,
   "metadata": {},
   "outputs": [],
   "source": []
  },
  {
   "cell_type": "code",
   "execution_count": 60,
   "metadata": {},
   "outputs": [],
   "source": [
    "# c9.get_belief(u)"
   ]
  },
  {
   "cell_type": "code",
   "execution_count": 61,
   "metadata": {},
   "outputs": [
    {
     "data": {
      "text/plain": [
       "(0.09090909090909091, 0.8181818181818182, 0.09090909090909091)"
      ]
     },
     "execution_count": 61,
     "metadata": {},
     "output_type": "execute_result"
    }
   ],
   "source": [
    "u.get_belief(c9)"
   ]
  },
  {
   "cell_type": "code",
   "execution_count": 62,
   "metadata": {},
   "outputs": [
    {
     "data": {
      "text/plain": [
       "(0.6666666666666666, 0.25, 0.08333333333333333)"
      ]
     },
     "execution_count": 62,
     "metadata": {},
     "output_type": "execute_result"
    }
   ],
   "source": [
    "u.get_belief(c10)"
   ]
  },
  {
   "cell_type": "code",
   "execution_count": 63,
   "metadata": {},
   "outputs": [],
   "source": [
    "# c9.get_honesty()"
   ]
  },
  {
   "cell_type": "code",
   "execution_count": 64,
   "metadata": {},
   "outputs": [
    {
     "data": {
      "text/plain": [
       "(0.09090909090909091, 0.8181818181818182, 0.09090909090909091)"
      ]
     },
     "execution_count": 64,
     "metadata": {},
     "output_type": "execute_result"
    }
   ],
   "source": [
    "v.get_belief(c8)"
   ]
  },
  {
   "cell_type": "code",
   "execution_count": 65,
   "metadata": {},
   "outputs": [
    {
     "data": {
      "text/plain": [
       "(0.09090909090909091, 0.8181818181818182, 0.09090909090909091)"
      ]
     },
     "execution_count": 65,
     "metadata": {},
     "output_type": "execute_result"
    }
   ],
   "source": [
    "v.get_belief(c9)"
   ]
  },
  {
   "cell_type": "code",
   "execution_count": 66,
   "metadata": {},
   "outputs": [
    {
     "data": {
      "text/plain": [
       "(0.5, 0.4166666666666667, 0.08333333333333333)"
      ]
     },
     "execution_count": 66,
     "metadata": {},
     "output_type": "execute_result"
    }
   ],
   "source": [
    "v.get_belief(c10)"
   ]
  },
  {
   "cell_type": "code",
   "execution_count": 67,
   "metadata": {},
   "outputs": [
    {
     "data": {
      "text/plain": [
       "(0.9375, 0.0, 0.0625)"
      ]
     },
     "execution_count": 67,
     "metadata": {},
     "output_type": "execute_result"
    }
   ],
   "source": [
    "x.get_belief(c8)"
   ]
  },
  {
   "cell_type": "code",
   "execution_count": 68,
   "metadata": {},
   "outputs": [
    {
     "data": {
      "text/plain": [
       "(0.9375, 0.0, 0.0625)"
      ]
     },
     "execution_count": 68,
     "metadata": {},
     "output_type": "execute_result"
    }
   ],
   "source": [
    "x.get_belief(c9)"
   ]
  },
  {
   "cell_type": "code",
   "execution_count": 69,
   "metadata": {},
   "outputs": [
    {
     "data": {
      "text/plain": [
       "(0.0, 0.6666666666666666, 0.3333333333333333)"
      ]
     },
     "execution_count": 69,
     "metadata": {},
     "output_type": "execute_result"
    }
   ],
   "source": [
    "x.get_belief(c10)"
   ]
  },
  {
   "cell_type": "code",
   "execution_count": 70,
   "metadata": {},
   "outputs": [],
   "source": [
    "#  c8.get_honesty()"
   ]
  },
  {
   "cell_type": "code",
   "execution_count": 71,
   "metadata": {},
   "outputs": [
    {
     "data": {
      "text/plain": [
       "0.37310606060606055"
      ]
     },
     "execution_count": 71,
     "metadata": {},
     "output_type": "execute_result"
    }
   ],
   "source": [
    "c8.get_global_crediblity()"
   ]
  },
  {
   "cell_type": "code",
   "execution_count": 72,
   "metadata": {},
   "outputs": [
    {
     "data": {
      "text/plain": [
       "0.37310606060606055"
      ]
     },
     "execution_count": 72,
     "metadata": {},
     "output_type": "execute_result"
    }
   ],
   "source": [
    "c9.get_global_crediblity()"
   ]
  },
  {
   "cell_type": "code",
   "execution_count": 73,
   "metadata": {},
   "outputs": [
    {
     "data": {
      "text/plain": [
       "0.38888888888888884"
      ]
     },
     "execution_count": 73,
     "metadata": {},
     "output_type": "execute_result"
    }
   ],
   "source": [
    "c10.get_global_crediblity()"
   ]
  },
  {
   "cell_type": "code",
   "execution_count": 74,
   "metadata": {},
   "outputs": [],
   "source": [
    "all_v = [c1,c2,c3,c4,c5,c6,c7,c8,c9,c10]\n",
    "all_p = [x,y,z,u,v]"
   ]
  },
  {
   "cell_type": "code",
   "execution_count": 75,
   "metadata": {},
   "outputs": [
    {
     "data": {
      "text/plain": [
       "[<__main__.Producer at 0x7ff7d1378c10>,\n",
       " <__main__.Producer at 0x7ff7d13788e0>,\n",
       " <__main__.Producer at 0x7ff7d1378e50>,\n",
       " <__main__.Producer at 0x7ff7d137e3d0>,\n",
       " <__main__.Producer at 0x7ff7d137e400>]"
      ]
     },
     "execution_count": 75,
     "metadata": {},
     "output_type": "execute_result"
    }
   ],
   "source": [
    "# all_v\n",
    "all_p"
   ]
  },
  {
   "cell_type": "code",
   "execution_count": 76,
   "metadata": {},
   "outputs": [
    {
     "data": {
      "text/plain": [
       "0.04663825757575756"
      ]
     },
     "execution_count": 76,
     "metadata": {},
     "output_type": "execute_result"
    }
   ],
   "source": [
    "c11.p_g_reputation(x, all_v)"
   ]
  },
  {
   "cell_type": "code",
   "execution_count": 77,
   "metadata": {},
   "outputs": [],
   "source": [
    "def mod_BRS(provider, all_advisors, all_providers, i_S = 0.5, i_D = 0.5):\n",
    "    rep = 0\n",
    "    reputation = 0\n",
    "    advisor_count = 0\n",
    "    for a in all_advisors:\n",
    "        if provider in a.b_satisfaction:\n",
    "            advisor_count += 1\n",
    "            e_p = (i_S + a.b_satisfaction[provider])/ (i_S + i_D + a.b_satisfaction[provider] + a.b_disatisfaction[provider])\n",
    "            a_cred = 0\n",
    "            sum_sat = 0\n",
    "            sum_dis = 0\n",
    "            for p in all_providers:\n",
    "                if a in p.b_satisfaction:\n",
    "                    sum_sat += p.b_satisfaction[a]\n",
    "                    sum_dis += p.b_disatisfaction[a]\n",
    "\n",
    "            if (sum_sat+sum_dis) > 0:\n",
    "                a_cred = 1 - (sum_dis/(sum_sat+sum_dis))\n",
    "            \n",
    "            print('a '+str(a.label)+' for provider '+str(p.id)+' e_p :'+str(e_p))\n",
    "            print('a '+str(a.label)+' a_cred :'+str(a_cred))\n",
    "            \n",
    "            rep += (e_p * a_cred)\n",
    "    if advisor_count > 0:\n",
    "        reputation = rep / advisor_count\n",
    "    return reputation\n",
    "    "
   ]
  },
  {
   "cell_type": "code",
   "execution_count": 78,
   "metadata": {},
   "outputs": [
    {
     "name": "stdout",
     "output_type": "stream",
     "text": [
      "a C1 for provider 208 e_p :0.96875\n",
      "a C1 a_cred :0.38181818181818183\n",
      "a C2 for provider 208 e_p :0.96875\n",
      "a C2 a_cred :0.38181818181818183\n",
      "a C3 for provider 208 e_p :0.96875\n",
      "a C3 a_cred :0.4\n",
      "a C4 for provider 208 e_p :0.96875\n",
      "a C4 a_cred :0.36363636363636365\n",
      "a C5 for provider 208 e_p :0.25\n",
      "a C5 a_cred :0.8333333333333334\n",
      "a C6 for provider 208 e_p :0.16666666666666666\n",
      "a C6 a_cred :0.75\n",
      "a C7 for provider 208 e_p :0.125\n",
      "a C7 a_cred :0.6818181818181819\n",
      "a C8 for provider 208 e_p :0.96875\n",
      "a C8 a_cred :0.48571428571428577\n",
      "a C9 for provider 208 e_p :0.96875\n",
      "a C9 a_cred :0.48571428571428577\n",
      "a C10 for provider 208 e_p :0.16666666666666666\n",
      "a C10 a_cred :0.5833333333333333\n"
     ]
    },
    {
     "data": {
      "text/plain": [
       "0.2936399711399712"
      ]
     },
     "execution_count": 78,
     "metadata": {},
     "output_type": "execute_result"
    }
   ],
   "source": [
    "mod_BRS(x, all_v, all_p)"
   ]
  },
  {
   "cell_type": "code",
   "execution_count": 79,
   "metadata": {},
   "outputs": [
    {
     "data": {
      "text/plain": [
       "0.23319128787878785"
      ]
     },
     "execution_count": 79,
     "metadata": {},
     "output_type": "execute_result"
    }
   ],
   "source": [
    "c11.p_g_reputation(x, all_v, alpha=0)"
   ]
  },
  {
   "cell_type": "code",
   "execution_count": 88,
   "metadata": {},
   "outputs": [
    {
     "data": {
      "text/plain": [
       "0.22702943374124668"
      ]
     },
     "execution_count": 88,
     "metadata": {},
     "output_type": "execute_result"
    }
   ],
   "source": [
    "c11.p_g_reputation(x, all_v, alpha=0.1, filter_threshold=0.3)"
   ]
  },
  {
   "cell_type": "code",
   "execution_count": 89,
   "metadata": {},
   "outputs": [
    {
     "data": {
      "text/plain": [
       "0.2208675796037055"
      ]
     },
     "execution_count": 89,
     "metadata": {},
     "output_type": "execute_result"
    }
   ],
   "source": [
    "c11.p_g_reputation(x, all_v, alpha=0.2, filter_threshold=0.3)"
   ]
  },
  {
   "cell_type": "code",
   "execution_count": 90,
   "metadata": {},
   "outputs": [
    {
     "data": {
      "text/plain": [
       "0.2147057254661643"
      ]
     },
     "execution_count": 90,
     "metadata": {},
     "output_type": "execute_result"
    }
   ],
   "source": [
    "c11.p_g_reputation(x, all_v, alpha=0.3, filter_threshold=0.3)"
   ]
  },
  {
   "cell_type": "code",
   "execution_count": 91,
   "metadata": {},
   "outputs": [
    {
     "data": {
      "text/plain": [
       "0.20854387132862315"
      ]
     },
     "execution_count": 91,
     "metadata": {},
     "output_type": "execute_result"
    }
   ],
   "source": [
    "c11.p_g_reputation(x, all_v, alpha=0.4, filter_threshold=0.3)"
   ]
  },
  {
   "cell_type": "code",
   "execution_count": 92,
   "metadata": {},
   "outputs": [
    {
     "data": {
      "text/plain": [
       "0.20238201719108195"
      ]
     },
     "execution_count": 92,
     "metadata": {},
     "output_type": "execute_result"
    }
   ],
   "source": [
    "c11.p_g_reputation(x, all_v, alpha=0.5, filter_threshold=0.3)"
   ]
  },
  {
   "cell_type": "code",
   "execution_count": 93,
   "metadata": {},
   "outputs": [
    {
     "data": {
      "text/plain": [
       "0.19622016305354079"
      ]
     },
     "execution_count": 93,
     "metadata": {},
     "output_type": "execute_result"
    }
   ],
   "source": [
    "c11.p_g_reputation(x, all_v, alpha=0.6, filter_threshold=0.3)"
   ]
  },
  {
   "cell_type": "code",
   "execution_count": 94,
   "metadata": {},
   "outputs": [
    {
     "data": {
      "text/plain": [
       "0.19005830891599962"
      ]
     },
     "execution_count": 94,
     "metadata": {},
     "output_type": "execute_result"
    }
   ],
   "source": [
    "c11.p_g_reputation(x, all_v, alpha=0.7, filter_threshold=0.3)"
   ]
  },
  {
   "cell_type": "code",
   "execution_count": 95,
   "metadata": {},
   "outputs": [
    {
     "data": {
      "text/plain": [
       "0.18389645477845845"
      ]
     },
     "execution_count": 95,
     "metadata": {},
     "output_type": "execute_result"
    }
   ],
   "source": [
    "c11.p_g_reputation(x, all_v, alpha=0.8, filter_threshold=0.3)"
   ]
  },
  {
   "cell_type": "code",
   "execution_count": 96,
   "metadata": {},
   "outputs": [
    {
     "data": {
      "text/plain": [
       "0.17773460064091726"
      ]
     },
     "execution_count": 96,
     "metadata": {},
     "output_type": "execute_result"
    }
   ],
   "source": [
    "c11.p_g_reputation(x, all_v, alpha=0.9, filter_threshold=0.3)"
   ]
  },
  {
   "cell_type": "code",
   "execution_count": 97,
   "metadata": {},
   "outputs": [
    {
     "data": {
      "text/plain": [
       "0.1715727465033761"
      ]
     },
     "execution_count": 97,
     "metadata": {},
     "output_type": "execute_result"
    }
   ],
   "source": [
    "c11.p_g_reputation(x, all_v, alpha=1, filter_threshold=0.3)"
   ]
  },
  {
   "cell_type": "code",
   "execution_count": null,
   "metadata": {},
   "outputs": [],
   "source": []
  },
  {
   "cell_type": "code",
   "execution_count": 87,
   "metadata": {},
   "outputs": [],
   "source": [
    "import random\n",
    "\n",
    "class Experiment:\n",
    "    def __init__(self, scenario, nconsumer, nproducer, ntransactions, seed=100):\n",
    "        self.scenario = scenario\n",
    "        self.nconsumer = nconsumer\n",
    "        self.nproducer = nproducer\n",
    "        self.ntransactions = ntransactions\n",
    "        self.nfaket = int(ntransactions/10)\n",
    "        self.init_trans = ntransactions - self.nfaket\n",
    "        self.consumers = {}\n",
    "        self.producers = {}\n",
    "        random.seed(seed)\n",
    "        self.graphdata = []\n",
    "        self.graphdata2 = []\n",
    "        self.badmouthdata = []\n",
    "        self.badmouthdata2 = []\n",
    "        self.start()\n",
    "        \n",
    "        \n",
    "    def start(self):\n",
    "        consumers = {}\n",
    "        producers = {}\n",
    "        consumer_id_start_range = 100\n",
    "        producer_id_start_range = 200\n",
    "        for x in range(self.nconsumer):\n",
    "            c = Consumer(consumer_id_start_range+x)\n",
    "            consumers[c.id] = c\n",
    "        for y in range(self.nproducer):\n",
    "            p = Consumer(producer_id_start_range+y)\n",
    "#             producers.append(p)\n",
    "            producers[p.id] = p\n",
    "        print('experiment'+str(self.scenario)+' initialised with'+str(len(consumers))+\" c and \"+str(len(producers))+\" p\")\n",
    "        self.consumers = consumers\n",
    "        self.producers = producers\n",
    "        \n",
    "        targetc = consumers[103]\n",
    "        targetp = producers[202]\n",
    "        for _,c in consumers.items():\n",
    "            for i in range(self.init_trans):\n",
    "#                 \n",
    "                _, p = random.choice(list(producers.items()))\n",
    "                c.interact(p, random.uniform(0, 1))\n",
    "                p.interact(c, random.uniform(0, 1))\n",
    "                if c == targetc and p == targetp:\n",
    "                    self.graphdata.append(targetc.reputation(targetp))\n",
    "                    self.graphdata2.append(targetc.bayes(targetp))\n",
    "        \n",
    "\n",
    "    def ballot_stuffing(self, providerid, consumerid, rating=0.9, targetc=103, n_consumers=1):\n",
    "        p = self.producers[providerid]\n",
    "        c = self.consumers[consumerid]\n",
    "        c2 = self.consumers[consumerid+1]\n",
    "        t = self.consumers[targetc]\n",
    "        for x in range(self.nfaket):\n",
    "            c.interact(p, rating)\n",
    "            p.interact(c, rating)\n",
    "            c2.interact(p, rating)\n",
    "            p.interact(c2, rating)\n",
    "            self.graphdata.append(t.reputation(p))\n",
    "            self.graphdata2.append(t.bayes(p))\n",
    "            \n",
    "    def bad_mouthing(self, victim, consumerid, rating=0.001, targetc=103, n_consumers=1):\n",
    "        p = self.producers[victim]\n",
    "        c = self.consumers[consumerid]\n",
    "        c2 = self.consumers[consumerid+1]\n",
    "        t = self.consumers[targetc]\n",
    "        for x in range(self.nfaket):\n",
    "            c.interact(p, rating)\n",
    "            p.interact(c, random.uniform(0, 1))\n",
    "            c2.interact(p, rating)\n",
    "            p.interact(c2, random.uniform(0, 1))\n",
    "            self.graphdata.append(t.reputation(p))\n",
    "            self.graphdata2.append(t.bayes(p))\n",
    "            \n",
    "    def majority_descrimination(self, attacker, consumerid, rating=0.001, targetc=103, n_consumers=1):\n",
    "        p = self.producers[attacker]\n",
    "        t = self.consumers[targetc]\n",
    "        for _, c in self.consumers.items():\n",
    "            if c != t:\n",
    "                for x in range(self.nfaket):\n",
    "                    if c.id <= 104:\n",
    "                        c.interact(p, 1)\n",
    "                        p.interact(c, 1)\n",
    "                    else:\n",
    "                        c.interact(p, random.uniform(0, 0.5))\n",
    "                        p.interact(c, 0)\n",
    "                    self.graphdata.append(t.reputation(p))\n",
    "                    self.graphdata2.append(t.bayes(p))\n",
    "                                   \n",
    "    def minority_descrimination(self, attacker, consumerid, rating=0.001, targetc=103, n_consumers=1):\n",
    "        p = self.producers[attacker]\n",
    "        t = self.consumers[targetc]\n",
    "        for _, c in self.consumers.items():\n",
    "            if c != t:\n",
    "                for x in range(self.nfaket):\n",
    "                    if c.id <= 104:\n",
    "                        c.interact(p, 0)\n",
    "                        p.interact(c, 0)\n",
    "                    else:\n",
    "                        c.interact(p, random.uniform(0.5, 1))\n",
    "                        p.interact(c, random.uniform(0.5, 1))\n",
    "                    self.graphdata.append(t.reputation(p))\n",
    "                    self.graphdata2.append(t.bayes(p))\n",
    "        \n",
    "    \n",
    "    def plot(self):\n",
    "#         import matplotlib.pyplot as plt\n",
    "#         xlables = [x for x in range(0, self.init_trans,10)]\n",
    "#         fig = plt.figure()\n",
    "#         ax = fig.add_subplot(111)\n",
    "#         ax.plot([1, 2, 3, 4,5,6,7,8,9], xlables, color='lightblue', linewidth=3)\n",
    "#         ax.scatter([0.3, 3.8, 1.2, 2.5, 2.5, 2.6, 2.7,3.0,3.5 ], [11, 25, 9,5,30,33,25, 26,35], color='darkgreen', marker='^')\n",
    "#         ax.set_xlim(0.5, 4.5)\n",
    "#         plt.show()\n",
    "        import matplotlib.pyplot as plt\n",
    "        import numpy as np\n",
    "        \n",
    "        print(self.graphdata)\n",
    "\n",
    "        # Prepare the data\n",
    "        x = np.linspace(0, len(self.graphdata), len(self.graphdata))\n",
    "\n",
    "        # Plot the data\n",
    "        plt.plot(x, self.graphdata2, alpha=0.7, label='Bayes')\n",
    "        plt.plot(x, self.graphdata, alpha=0.7, label='ROBUSTRA')\n",
    "\n",
    "        # Add a legend\n",
    "        plt.legend()\n",
    "\n",
    "        # Show the plot\n",
    "        plt.show()\n",
    "        "
   ]
  },
  {
   "cell_type": "code",
   "execution_count": null,
   "metadata": {},
   "outputs": [],
   "source": []
  }
 ],
 "metadata": {
  "kernelspec": {
   "display_name": "anaka",
   "language": "python",
   "name": "anaka"
  },
  "language_info": {
   "codemirror_mode": {
    "name": "ipython",
    "version": 3
   },
   "file_extension": ".py",
   "mimetype": "text/x-python",
   "name": "python",
   "nbconvert_exporter": "python",
   "pygments_lexer": "ipython3",
   "version": "3.8.5"
  }
 },
 "nbformat": 4,
 "nbformat_minor": 4
}
