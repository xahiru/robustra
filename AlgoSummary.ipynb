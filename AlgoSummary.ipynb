{
 "cells": [
  {
   "cell_type": "code",
   "execution_count": null,
   "metadata": {},
   "outputs": [],
   "source": [
    "interactionsList<(id:consumerRating),(id:ProducerRating)>\n",
    "sortby_Consumer_Producer(interactionsList)\n",
    "get_uid(interactionsList,phi, decay,) \n",
    "\n",
    "def get_comumilatesnhonestry(userRating, phi, decay):\n",
    "            cum_dis = ((1- userRating) * phi) * (decay **(exp_val_n - count)) \n",
    "            cum_sat = ((1+ userRating) * phi) * (decay **(exp_val_n - count)) \n",
    "    return cum_dis, cum_sat\n",
    "\n",
    "honesty = 1 - (cum_sat_P / (cum_dis_P + cum_sat_P))\n",
    "\n",
    "\n",
    "def getBelDisUn(cum_sat, cum_dis, epsilon):\n",
    "    belief = cum_sat /(den)\n",
    "    disbelief = cum_dis /(den)\n",
    "    uncertainity = epsilon / (den)\n",
    "    return b, d, u\n",
    "\n",
    "\n",
    "def distance(consumer, advisor):\n",
    "            if( consumer!= advisor):\n",
    "                comm_vendors = getCommonVendors(consumer,advisor) \n",
    "                for vendor in comm_vendors:\n",
    "                        \n",
    "                    consumer_bel, consumer_disbel, consumer_unc = getBelDisUn(consumer, vendor)\n",
    "                         \n",
    "                    advisor_bel, advisor_disbel, advisor_unc = getBelDisUn(advisor, vendor)\n",
    "  \n",
    "                    dist = ((a_bel - b_bel)**2) + ((a_disbel - b_disbel)**2) + ((a_unc - b_unc)**2)** (1/2)/2\n",
    "                    cum_dist += dist\n",
    "\n",
    "                meand = cum_dist/len(comm_vendors)\n",
    "                distance_matrix[consumer, advisor] = meand\n",
    "                sim_matrix = 1 - distance_matrix \n",
    "\n",
    "\n",
    "def trust(vendor,requestor, sim_matrix, alpha, beta, trustProp):    \n",
    "            for advisor in all_advisors:\n",
    "                av_bel = get_bel(advisor, vendor)\n",
    "                if((advisor,requestor) in commonv):\n",
    "                    ra_sim = sim[requestor, advisor]\n",
    "                    rep += (ra_sim * )\n",
    "\n",
    "                else:\n",
    "                    hon += (av_bel * va_hon)\n",
    "             \n",
    "\n",
    "    \n",
    "            reputation = (alpha * rep)/rep_count +((1 - alpha) * hon)/hon_count\n",
    "\n",
    "            initT = (beta * trust_propensity ) + ((1-beta) * reputation)\n",
    "            \n",
    "            trust = requestor.b + (initT * requestor.u)\n",
    "#             trust_dash = requestor.d + ((1 - initT) * requestor.u) \n",
    "            "
   ]
  }
 ],
 "metadata": {
  "kernelspec": {
   "display_name": "anaka",
   "language": "python",
   "name": "anaka"
  },
  "language_info": {
   "codemirror_mode": {
    "name": "ipython",
    "version": 3
   },
   "file_extension": ".py",
   "mimetype": "text/x-python",
   "name": "python",
   "nbconvert_exporter": "python",
   "pygments_lexer": "ipython3",
   "version": "3.8.5"
  }
 },
 "nbformat": 4,
 "nbformat_minor": 4
}
