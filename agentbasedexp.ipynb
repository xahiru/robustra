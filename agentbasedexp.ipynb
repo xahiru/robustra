{
 "cells": [
  {
   "cell_type": "code",
   "execution_count": 134,
   "metadata": {},
   "outputs": [],
   "source": [
    "class Consumer:\n",
    "    def __init__(self, name): \n",
    "        self.id = name\n",
    "        self.advisors = [] #neighbors\n",
    "        self.providers = []\n",
    "        self.interactions = {}\n",
    "        self.total_interactions = 0\n",
    "        self.provider_raputation = {}\n",
    "        self.advisor_reputation = {}\n",
    "        self.decay = 1\n",
    "        self.phi = 0.5\n",
    "        self.epsilon = 0.001\n",
    "        self.limit = 0 #tolarance limit\n",
    "        self.satisfaction = {}\n",
    "        self.disatisfaction = {}\n",
    "            \n",
    "    def interact(self, provider, rating):\n",
    "        if provider != self.id:\n",
    "            if provider in self.providers:\n",
    "                ratelist = self.interactions[provider]\n",
    "            else:\n",
    "                ratelist = []\n",
    "                self.providers.append(provider)\n",
    "\n",
    "            ratelist.append(rating)\n",
    "            self.interactions[provider] = ratelist\n",
    "            self.total_interactions += 1\n",
    "\n",
    "            print(\"Consumer :\"+str(self.id)+\" rated Provider :\"+str(provider)+\" with \"+str(rating))\n",
    "            self.eval_provider(provider, rating)\n",
    "        else:\n",
    "            print('I cant interact with myself')\n",
    "        \n",
    "        \n",
    "    def eval_provider(self, provider, rating):\n",
    "        exp_val_n = len(self.interactions[provider])\n",
    "        rj = ((1- rating) * self.phi) * (self.decay **(exp_val_n - self.limit)) #disatisfaction\n",
    "        sj = ((1+ rating) * self.phi) * (self.decay **(exp_val_n - self.limit)) #satisfaction\n",
    "        self.limit += 1\n",
    "        print(\"Consumer :\"+str(self.id)+\" evaluates Provider :\"+str(provider)+\" satisfaction: \"+str(sj)+ \"disatisfaction :\"+str(rj))\n",
    "        \n",
    "        if provider in self.satisfaction:\n",
    "            cumilative_satisfaction = self.satisfaction[provider]\n",
    "            cumilative_disatisfaction = self.disatisfaction[provider]\n",
    "            cumilative_satisfaction += sj\n",
    "            cumilative_disatisfaction +=rj\n",
    "        else:\n",
    "            cumilative_satisfaction = sj\n",
    "            cumilative_disatisfaction = rj\n",
    "        self.satisfaction[provider] = cumilative_satisfaction\n",
    "        self.disatisfaction[provider] = cumilative_disatisfaction\n",
    "        \n",
    "        print(\"Consumer :\"+str(self.id)+\"'s current satisfaction and disatisfaction for Provider :\"+str(provider)+\" are : \"+str(cumilative_satisfaction)+ \" :\"+str(cumilative_disatisfaction))\n",
    "        self.get_belief(provider)\n",
    "    \n",
    "    def get_belief(self, provider):\n",
    "            cum_sat = self.satisfaction[provider]\n",
    "            cum_dis = self.disatisfaction[provider]\n",
    "            total_sat_dit = cum_dis+cum_sat\n",
    "            den = total_sat_dit + self.epsilon \n",
    "            print(total_sat_dit)\n",
    "            belief = cum_sat /(den)\n",
    "            disbelief = cum_dis /(den)\n",
    "            uncertainity = self.epsilon / (den)\n",
    "            \n",
    "            print(\"Consumer :\"+str(self.id)+\"'s current belief,disbelief, and uncertainity for Provider :\"+str(provider)+\" are : \"+str(belief)+ \" :\"+str(disbelief)+ \" : \"+str(uncertainity))\n",
    "        \n",
    "            return belief, disbelief, uncertainity\n",
    "        \n",
    "        \n",
    "    def provider_raputation(self, provider):\n",
    "        return provider_raputation[provider]\n",
    "    \n",
    "    def get_providers(self):\n",
    "        return self.providers\n",
    "        \n",
    "    def get_distance(self, advisor):\n",
    "        print('My providers are :'+str(self.get_providers()))\n",
    "        print('Advisor providers are :'+str(advisor.get_providers()))\n",
    "        if advisor in self.advisors:\n",
    "            cum_dist = 0\n",
    "            comm_vendors = 0\n",
    "            similarity = 0\n",
    "            for p in advisor.providers:\n",
    "                if p in providers:\n",
    "                    comm_vendors += 1\n",
    "                    a_bel, a_disbel, a_unc = self.get_belief(p)\n",
    "                    b_bel, b_disbel, b_unc = advisor.get_belief(p)\n",
    "                    adreptop = rep\n",
    "                    nonsqrt=((a_bel - b_bel)**2) + ((a_disbel - b_disbel)**2) + ((a_unc - b_unc)**2)\n",
    "                    dist = nonsqrt** (1/2)\n",
    "                    dist = dist/2\n",
    "                    cum_dist += dist\n",
    "            if len(comm_vendors) > 0:\n",
    "                meanormilsed_distance = cum_dist/comm_vendors\n",
    "                similarity = 1 - meanormilsed_distance\n",
    "                print(\"Consumer :\"+str(self.id)+\" similarity with advisor :\"+str(advisor)+\" is \"+str(similarity))\n",
    "            \n",
    "    def get_myhonesty(self,initr = 0,inits = 0):\n",
    "        (initr + cum_cumsat) / (initr + inits + cum_cumsat + cum_cumdis)\n",
    "        \n",
    "    def set_adivsors(self, neigbors):\n",
    "        self.advisors = neigbors\n",
    "    def add_an_adivsor(self, neigbor):\n",
    "        self.advisors.append(neigbor)\n",
    "        \n",
    "        "
   ]
  },
  {
   "cell_type": "code",
   "execution_count": 135,
   "metadata": {},
   "outputs": [],
   "source": [
    "c1 = Consumer(50)"
   ]
  },
  {
   "cell_type": "code",
   "execution_count": 136,
   "metadata": {},
   "outputs": [
    {
     "name": "stdout",
     "output_type": "stream",
     "text": [
      "Consumer :50 rated Provider :100 with 0.3\n",
      "Consumer :50 evaluates Provider :100 satisfaction: 0.65disatisfaction :0.35\n",
      "Consumer :50's current satisfaction and disatisfaction for Provider :100 are : 0.65 :0.35\n",
      "1.0\n",
      "Consumer :50's current belief,disbelief, and uncertainity for Provider :100 are : 0.6493506493506495 :0.3496503496503497 : 0.0009990009990009992\n"
     ]
    }
   ],
   "source": [
    "\n",
    "c1.interact(100, 0.3) #data between 0.5"
   ]
  },
  {
   "cell_type": "code",
   "execution_count": 137,
   "metadata": {},
   "outputs": [
    {
     "name": "stdout",
     "output_type": "stream",
     "text": [
      "Consumer :50 rated Provider :100 with 0.2\n",
      "Consumer :50 evaluates Provider :100 satisfaction: 0.6disatisfaction :0.4\n",
      "Consumer :50's current satisfaction and disatisfaction for Provider :100 are : 1.25 :0.75\n",
      "2.0\n",
      "Consumer :50's current belief,disbelief, and uncertainity for Provider :100 are : 0.6246876561719141 :0.37481259370314846 : 0.0004997501249375313\n"
     ]
    }
   ],
   "source": [
    "c1.interact(100, 0.2) "
   ]
  },
  {
   "cell_type": "code",
   "execution_count": 138,
   "metadata": {},
   "outputs": [],
   "source": [
    "c2 = Consumer(51)"
   ]
  },
  {
   "cell_type": "code",
   "execution_count": 139,
   "metadata": {},
   "outputs": [
    {
     "name": "stdout",
     "output_type": "stream",
     "text": [
      "Consumer :51 rated Provider :100 with 0.2\n",
      "Consumer :51 evaluates Provider :100 satisfaction: 0.6disatisfaction :0.4\n",
      "Consumer :51's current satisfaction and disatisfaction for Provider :100 are : 0.6 :0.4\n",
      "1.0\n",
      "Consumer :51's current belief,disbelief, and uncertainity for Provider :100 are : 0.5994005994005994 :0.39960039960039967 : 0.0009990009990009992\n"
     ]
    }
   ],
   "source": [
    "c2.interact(100, 0.2)"
   ]
  },
  {
   "cell_type": "code",
   "execution_count": 140,
   "metadata": {},
   "outputs": [
    {
     "name": "stdout",
     "output_type": "stream",
     "text": [
      "My providers are :[100]\n",
      "Advisor providers are :[100]\n"
     ]
    }
   ],
   "source": [
    "c2.get_distance(c1)"
   ]
  },
  {
   "cell_type": "code",
   "execution_count": 141,
   "metadata": {},
   "outputs": [],
   "source": [
    "c2.add_an_adivsor(50)"
   ]
  },
  {
   "cell_type": "code",
   "execution_count": 142,
   "metadata": {},
   "outputs": [
    {
     "name": "stdout",
     "output_type": "stream",
     "text": [
      "My providers are :[100]\n",
      "Advisor providers are :[100]\n"
     ]
    }
   ],
   "source": [
    "c2.get_distance(c1)"
   ]
  },
  {
   "cell_type": "code",
   "execution_count": null,
   "metadata": {},
   "outputs": [],
   "source": []
  }
 ],
 "metadata": {
  "kernelspec": {
   "display_name": "anaka",
   "language": "python",
   "name": "anaka"
  },
  "language_info": {
   "codemirror_mode": {
    "name": "ipython",
    "version": 3
   },
   "file_extension": ".py",
   "mimetype": "text/x-python",
   "name": "python",
   "nbconvert_exporter": "python",
   "pygments_lexer": "ipython3",
   "version": "3.8.5"
  }
 },
 "nbformat": 4,
 "nbformat_minor": 4
}
