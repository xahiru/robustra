{
 "cells": [
  {
   "cell_type": "code",
   "execution_count": 25,
   "metadata": {},
   "outputs": [],
   "source": [
    "class User:\n",
    "    def __init__(self, name, label=\"none\"): \n",
    "        self.id = name\n",
    "        self.label = label\n",
    "        self.advisors = [] #neighbors\n",
    "        self.providers = []\n",
    "        self.interactions = {}\n",
    "        self.total_interactions = 0\n",
    "        self.provider_raputation = {}\n",
    "        self.advisor_reputation = {}\n",
    "        self.decay = 1 #longitivity\n",
    "        self.phi = 0.5 #w\n",
    "        self.epsilon = 1 #uncertainity\n",
    "        self.limit = 0 #tolarance limit\n",
    "#         self.alpha = 0.8 #consumer confidence\n",
    "        self.satisfaction = {}\n",
    "        self.disatisfaction = {}\n",
    "        self.b_satisfaction = {}\n",
    "        self.b_disatisfaction = {}\n",
    "\n",
    "        \n",
    "    def reset(self):\n",
    "        self.advisors = [] #neighbors\n",
    "        self.providers = []\n",
    "        self.interactions = {}\n",
    "        self.total_interactions = 0\n",
    "        self.provider_raputation = {}\n",
    "        self.advisor_reputation = {}\n",
    "        self.satisfaction = {}\n",
    "        self.disatisfaction = {}\n",
    "        self.b_satisfaction = {}\n",
    "        self.b_disatisfaction = {}\n",
    "        \n",
    "            \n",
    "    def interact(self, provider, rating):\n",
    "        if provider.id != self.id:\n",
    "            if provider in self.providers:\n",
    "                ratelist = self.interactions[provider]\n",
    "            else:\n",
    "                ratelist = []\n",
    "                self.providers.append(provider)\n",
    "\n",
    "            ratelist.append(rating)\n",
    "            self.interactions[provider] = ratelist\n",
    "            self.total_interactions += 1\n",
    "\n",
    "            self.eval_provider(provider, rating)\n",
    "            self.eval_provider(provider, rating, bayes = True)\n",
    "        else:\n",
    "            print('I cant interact with myself')\n",
    "        \n",
    "        \n",
    "    def eval_provider(self, provider, rating, bayes = False):\n",
    "        exp_val_n = len(self.interactions[provider])\n",
    "\n",
    "        rj = (1- rating) * self.phi #disatisfaction self.phi = w, rj = ds\n",
    "        sj = (1+ rating) * self.phi #satisfaction self.phi = w  sj = sj\n",
    "        \n",
    "        if bayes:\n",
    "            if provider in self.b_satisfaction:\n",
    "                cumilative_satisfaction = self.b_satisfaction[provider]\n",
    "                cumilative_disatisfaction = self.b_disatisfaction[provider]\n",
    "                cumilative_satisfaction += sj\n",
    "                cumilative_disatisfaction += rj\n",
    "            else:\n",
    "                cumilative_satisfaction = sj\n",
    "                cumilative_disatisfaction = rj\n",
    "            self.b_satisfaction[provider] = cumilative_satisfaction\n",
    "            self.b_disatisfaction[provider] = cumilative_disatisfaction\n",
    "        else:\n",
    "            decay_factor = self.decay **(exp_val_n - self.limit)\n",
    "            rj *= decay_factor\n",
    "            sj *= decay_factor\n",
    "            self.limit += 1\n",
    "            if provider in self.satisfaction:\n",
    "                cumilative_satisfaction = self.satisfaction[provider]\n",
    "                cumilative_disatisfaction = self.disatisfaction[provider]\n",
    "                cumilative_satisfaction += sj\n",
    "                cumilative_disatisfaction +=rj\n",
    "            else:\n",
    "                cumilative_satisfaction = sj\n",
    "                cumilative_disatisfaction = rj\n",
    "            self.satisfaction[provider] = cumilative_satisfaction\n",
    "            self.disatisfaction[provider] = cumilative_disatisfaction\n",
    "        \n",
    "        self.get_belief(provider)\n",
    "    \n",
    "    def get_belief(self, provider):\n",
    "        belief = 0 \n",
    "        disbelief = 0 \n",
    "        uncertainity = 0\n",
    "        if provider in self.satisfaction:\n",
    "            cum_sat = self.satisfaction[provider]\n",
    "            cum_dis = self.disatisfaction[provider]\n",
    "            total_sat_dit = cum_dis+cum_sat\n",
    "            den = total_sat_dit + self.epsilon \n",
    "            belief = cum_sat /(den)\n",
    "            disbelief = cum_dis /(den)\n",
    "            uncertainity = self.epsilon / (den)    \n",
    "        return belief, disbelief, uncertainity\n",
    "        \n",
    "        \n",
    "    def provider_raputation(self, provider):\n",
    "        return provider_raputation[provider]\n",
    "    \n",
    "    def get_providers(self):\n",
    "        return self.providers\n",
    "        \n",
    "\n",
    "    def get_similarity(self, advisor):\n",
    "\n",
    "        common_providers = [x for x in advisor.get_providers() if x in self.get_providers()]\n",
    "        similarity = -100 #note this is just for checking if the advisor has a common vendor\n",
    "        \n",
    "        if len(common_providers) > 0:\n",
    "            cum_dist = 0\n",
    "            for p in common_providers:\n",
    "                    \n",
    "                    a_bel, a_disbel, a_unc = self.get_belief(p)\n",
    "                    b_bel, b_disbel, b_unc = advisor.get_belief(p)\n",
    "                    nonsqrt= self.get_distance(advisor, p)\n",
    "                    dist = nonsqrt** (1/2)\n",
    "                    dist = dist/(2**(1/2))\n",
    "                    cum_dist += dist\n",
    "            meanormilsed_distance = cum_dist/len(common_providers)\n",
    "            similarity = 1 - meanormilsed_distance\n",
    "        return similarity\n",
    "    \n",
    "    def get_distance(self, advisor, p):\n",
    "        a_bel, a_disbel, a_unc = self.get_belief(p)\n",
    "        b_bel, b_disbel, b_unc = advisor.get_belief(p)\n",
    "        nonsqrt=((a_bel - b_bel)**2) + ((a_disbel - b_disbel)**2) + ((a_unc - b_unc)**2)\n",
    "        return nonsqrt\n",
    "            \n",
    "    def get_global_crediblity(self):\n",
    "        cum_bel = 0\n",
    "#         print('cum_bel'+str(cum_bel))\n",
    "#         print('self.providers'+str(self.providers))\n",
    "        p_count = 0\n",
    "        gp = 0\n",
    "        for p in self.providers:\n",
    "            b ,_ , _ = p.get_belief(self)\n",
    "            cum_bel += b\n",
    "            p_count += 1\n",
    "            \n",
    "        if p_count > 0:\n",
    "            gp = cum_bel/p_count\n",
    "#         print('gp'+str(gp))\n",
    "        return gp\n",
    "            \n",
    "    \n",
    "    def set_adivsors(self, neigbors):\n",
    "        self.advisors = neigbors\n",
    "    def add_an_adivsor(self, neigbor):\n",
    "        self.advisors.append(neigbor)\n",
    "    \n",
    "    def get_id(self):\n",
    "        self.id\n",
    "    \n",
    "\n",
    "    def my_bayes(self, p):\n",
    "        sat = 0\n",
    "        dis = 0\n",
    "        if p in self.b_satisfaction:\n",
    "            sat = self.b_satisfaction[p]\n",
    "            dis = self.b_disatisfaction[p]\n",
    "        return sat, dis\n",
    "    \n",
    "\n",
    "    \n",
    "    def p_g_reputation(self, provider, all_advisors, alpha = 0.8, filter_threshold = 0.5):\n",
    "        sim_count = 0\n",
    "        gc_count = 0\n",
    "        gp_count = 0\n",
    "        p_rep = 0\n",
    "        g_rep = 0\n",
    "        for _, a in all_advisors.items():\n",
    "            if a.id != self.id:\n",
    "                ap_bel, _, _ = a.get_belief(provider)\n",
    "                sim = self.get_similarity(a)\n",
    "                if sim != -100: #meaning have no common vendos\n",
    "                    sim_count += 1\n",
    "                    if sim > filter_threshold:\n",
    "                        p_rep += (sim * ap_bel)\n",
    "                else:\n",
    "                    gc = a.get_global_crediblity()\n",
    "                    gp_count += 1\n",
    "                    g_rep += (gc * ap_bel)\n",
    "#                     print('ap_bel'+str(ap_bel))\n",
    "        reputation = 0\n",
    "        r = 0\n",
    "        g = 0\n",
    "        if sim_count > 0:\n",
    "            r = (alpha * p_rep)/sim_count\n",
    "\n",
    "        if  gp_count > 0:\n",
    "            g = ((1 - alpha) * g_rep)/gp_count\n",
    "#         print('g_rep '+str(g_rep))\n",
    "#         print('p_rep '+str(p_rep))\n",
    "#         print('g '+str(g))\n",
    "#         print('r '+str(r))\n",
    "        reputation = r + g\n",
    "#         print('reputation'+str(reputation))\n",
    "        return reputation\n",
    "        \n",
    "    \n",
    "        "
   ]
  },
  {
   "cell_type": "code",
   "execution_count": 26,
   "metadata": {},
   "outputs": [],
   "source": [
    "class Consumer(User):\n",
    "    def __init__(self, name, label=\"C\"):\n",
    "        User.__init__(self,name, label)\n",
    "        \n",
    "\n",
    "class Producer(User):\n",
    "    def __init__(self, name, label=\"P\"):\n",
    "        User.__init__(self,name, label)\n",
    "\n",
    "# class Advisor(Users):\n",
    "#     def __init__(self, name):\n",
    "#         Users.__init__(self,name)"
   ]
  },
  {
   "cell_type": "code",
   "execution_count": null,
   "metadata": {},
   "outputs": [],
   "source": []
  },
  {
   "cell_type": "code",
   "execution_count": 27,
   "metadata": {},
   "outputs": [],
   "source": [
    "import random\n",
    "\n",
    "class Experiment:\n",
    "    def __init__(self, scenario, nconsumer, nproducer, ntransactions, seed=100):\n",
    "        self.scenario = scenario\n",
    "        self.nconsumer = nconsumer\n",
    "        self.nproducer = nproducer\n",
    "        self.ntransactions = ntransactions\n",
    "        self.nfaket = int(ntransactions/10)\n",
    "        self.init_trans = ntransactions - self.nfaket\n",
    "        self.consumers = {}\n",
    "        self.producers = {}\n",
    "        random.seed(seed)\n",
    "        self.graphdata = {}\n",
    "        self.graphdata_bayes = {}\n",
    "        self.graphdata_modBRS = {}\n",
    "        self.producer_id_start_range = 200\n",
    "        self.consumer_id_start_range = 100\n",
    "        self.alpha = 0.8\n",
    "        self.filter_threshold = 0.5\n",
    "        self.all_advs = []\n",
    "        self.interval_count = 0      \n",
    "        self.total_transactions_for_all = 0\n",
    "        self.target = False\n",
    "        self.pair_list = []\n",
    "        self.start()\n",
    "        \n",
    "        \n",
    "    def start(self, excludelist=[]):\n",
    "        consumers = {}\n",
    "        producers = {}\n",
    "        c_dic = {}\n",
    "        c_p_reps = []\n",
    "\n",
    "        c_dic_bayes = {}\n",
    "        c_dic_modBRS = {}\n",
    "        c_p_reps_bayes = []\n",
    "        c_p_reps_modBRS = []\n",
    "        for x in range(self.nconsumer):\n",
    "            c = Consumer(self.consumer_id_start_range+x)\n",
    "            consumers[c.id] = c\n",
    "            c_dic[c.id] = c_p_reps\n",
    "            self.graphdata[c.id] = c_dic\n",
    "            c_dic_bayes[c.id] = c_p_reps_bayes\n",
    "            self.graphdata_bayes[c.id] = c_dic_bayes\n",
    "            c_dic_modBRS[c.id] = c_p_reps_modBRS\n",
    "            self.graphdata_modBRS[c.id] = c_dic_modBRS\n",
    "        for y in range(self.nproducer):\n",
    "            p = Producer(self.producer_id_start_range+y)\n",
    "#             producers.append(p)\n",
    "            producers[p.id] = p\n",
    "            \n",
    "            c_dic[p.id] = c_p_reps\n",
    "            self.graphdata[p.id] = c_dic\n",
    "            c_dic_bayes[p.id] = c_p_reps_bayes\n",
    "            self.graphdata_bayes[p.id] = c_dic_bayes\n",
    "            c_dic_modBRS[p.id] = c_p_reps_modBRS\n",
    "            self.graphdata_modBRS[p.id] = c_dic_modBRS\n",
    "        print('experiment'+str(self.scenario)+' initialised with'+str(len(consumers))+\" c and \"+str(len(producers))+\" p\")\n",
    "        self.consumers = consumers\n",
    "        self.producers = producers\n",
    "        \n",
    "        \n",
    "    def i_transactions(self, exclude_pair=[], pair_list =[], target=False, t_per_user=3):\n",
    "        self.init_trans = t_per_user * len(self.consumers)\n",
    "        self.target = target\n",
    "        self.pair_list = pair_list\n",
    "        pids = [x for x in self.producers]\n",
    "        adis = [x for x in self.consumers]\n",
    "        all_advs = [self.consumers[x] for x in adis]\n",
    "        all_prvs = [self.producers[x] for x in pids]\n",
    "        self.all_advs = all_advs\n",
    "        self.all_prvs = all_prvs\n",
    "        self.pids = pids\n",
    "        print('initalizing '+str(self.scenario)+'  with'+str(t_per_user)+\" t_per_user for \"+str(len(self.consumers))+' c')\n",
    "        print(self.init_trans)\n",
    "        for _,c in self.consumers.items():\n",
    "\n",
    "            for i in range(t_per_user):\n",
    "                pi = random.choice(pids)\n",
    "                p = self.producers[pi]\n",
    "                if (not (c.id, p.id) in exclude_pair):\n",
    "                    self.interact_normally(c, p)\n",
    "                        \n",
    "\n",
    "    def interact_normally(self, c, p, n_trans= 1):\n",
    "#         print(str(n_trans)+' normal transaction')\n",
    "        for i in range(n_trans):\n",
    "#             print(str(i)+'th normal transaction')\n",
    "            r_i = random.randint(0,5)\n",
    "            if r_i == 1:\n",
    "                self.agree(c, p, 1)\n",
    "            elif r_i == 2:\n",
    "                self.disagree(c, p, 1)\n",
    "            elif r_i == 3:\n",
    "                self.c_agree_p_disagree(c, p, 1)\n",
    "            else:\n",
    "                self.p_agree_c_disagree(c, p, 1)\n",
    "    \n",
    "    def update_forall(self, interval= 10):\n",
    "        self.interval_count += 1\n",
    "        if self.target:\n",
    "                self.update_for_targets(self.pair_list)\n",
    "        else:\n",
    "            if self.interval_count % interval == 0:\n",
    "                for _,c in self.consumers.items():\n",
    "                    for _,p in self.producers.items():\n",
    "                        self.update_data(c, p)\n",
    "    \n",
    "    def update_for_targets(self, pair_list):\n",
    "        for co,pr in pair_list:\n",
    "            c = self.consumers[co]\n",
    "            p = self.producers[pr]\n",
    "            self.update_data(c,p)\n",
    "        \n",
    "            \n",
    "    def update_data(self, c, p):\n",
    "        \n",
    "        rep = c.p_g_reputation(p, self.consumers, self.alpha, self.filter_threshold)\n",
    "        b_rep = self.bayes(self.consumers, p)\n",
    "        m_rep = self.mod_BRS(c, p, self.consumers, self.producers, i_S = 0.5, i_D = 0.5)\n",
    "        \n",
    "        if c.id in self.graphdata:\n",
    "            c_dic = self.graphdata[c.id]\n",
    "            if p.id in c_dic:\n",
    "                c_p_reps = c_dic[p.id]\n",
    "\n",
    "        c_p_reps.append(rep)\n",
    "        c_dic[p.id] = c_p_reps\n",
    "        self.graphdata[c.id] = c_dic\n",
    "\n",
    "        if c.id in self.graphdata_bayes:\n",
    "            c_dic_bayes = self.graphdata_bayes[c.id]\n",
    "            if p.id in c_dic_bayes:\n",
    "                c_p_reps_bayes = c_dic_bayes[p.id]\n",
    "\n",
    "        c_p_reps_bayes.append(b_rep)\n",
    "        c_dic_bayes[p.id] = c_p_reps_bayes\n",
    "        self.graphdata_bayes[c.id] = c_dic_bayes\n",
    "\n",
    "        if c.id in self.graphdata_modBRS:\n",
    "            c_dic_modBRS = self.graphdata_modBRS[c.id]\n",
    "            if p.id in c_dic_modBRS:\n",
    "                c_p_reps_mod = c_dic_modBRS[p.id]\n",
    "\n",
    "        c_p_reps_mod.append(m_rep)\n",
    "        c_dic_modBRS[p.id] = c_p_reps_mod\n",
    "        self.graphdata_modBRS[c.id] = c_dic_modBRS\n",
    "        \n",
    "        \n",
    "    \n",
    "    def agree(self, c, p, n_interactions, rate=1):\n",
    "        for i in range(n_interactions):\n",
    "            c.interact(p, rate)\n",
    "            p.interact(c, rate)\n",
    "            self.update_forall()\n",
    "            self.total_transactions_for_all += 1\n",
    "\n",
    "\n",
    "\n",
    "    def disagree(self, c, p, n_interactions,rate=-1):\n",
    "        self.agree(c, p, n_interactions,rate)\n",
    "        \n",
    "\n",
    "    def c_agree_p_disagree(self, c, p, n_interactions, p_rate=1, n_rate=-1):\n",
    "        for i in range(n_interactions):\n",
    "            c.interact(p, p_rate)\n",
    "            p.interact(c, n_rate)\n",
    "            self.update_forall()\n",
    "            self.total_transactions_for_all += 1\n",
    "            \n",
    "\n",
    "    def p_agree_c_disagree(self, c, p, n_interactions, p_rate=1, n_rate=-1):\n",
    "        for i in range(n_interactions):\n",
    "            c.interact(p, n_rate)\n",
    "            p.interact(c, p_rate)\n",
    "            self.update_forall()\n",
    "            self.total_transactions_for_all += 1\n",
    "\n",
    "    \n",
    "    def mod_BRS(self, c, provider, all_advisors, all_providers, i_S = 0.5, i_D = 0.5):\n",
    "        rep = 0\n",
    "        reputation = 0\n",
    "        advisor_count = 0\n",
    "        for _,a in all_advisors.items():\n",
    "#             if a.id != c.id:\n",
    "            if provider in a.b_satisfaction:\n",
    "                advisor_count += 1\n",
    "                e_p = (i_S + a.b_satisfaction[provider])/ (i_S + i_D + a.b_satisfaction[provider] + a.b_disatisfaction[provider])\n",
    "                a_cred = 0\n",
    "                sum_sat = 0\n",
    "                sum_dis = 0\n",
    "                for _,p in all_providers.items():\n",
    "                    if a in p.b_satisfaction:\n",
    "                        sum_sat += p.b_satisfaction[a]\n",
    "                        sum_dis += p.b_disatisfaction[a]\n",
    "\n",
    "                if (sum_sat+sum_dis) > 0:\n",
    "                    a_cred = 1 - (sum_dis/(sum_sat+sum_dis))\n",
    "\n",
    "#                 print('C '+str(a.id)+' for provider '+str(p.id)+' e_p :'+str(e_p))\n",
    "#                 print('C '+str(a.id)+' a_cred :'+str(a_cred))\n",
    "\n",
    "                rep += (e_p * a_cred)\n",
    "        \n",
    "        if advisor_count > 0:\n",
    "            reputation = rep / advisor_count\n",
    "        return reputation\n",
    "    \n",
    "    def bayes(self, l_consumers, xprovider):\n",
    "        cum_sat = 0\n",
    "        cum_dis = 0\n",
    "        for _, cm in l_consumers.items():\n",
    "        #     print(cm.id)\n",
    "            s, d = cm.my_bayes(xprovider)\n",
    "#             print('For user = '+str(cm.label)+','+str(cm.id)+' S = '+str(s)+\" D = \"+str(d))\n",
    "\n",
    "            cum_sat += s\n",
    "            cum_dis += d\n",
    "#         print(str(cum_sat)+'/'+str(cum_sat+ cum_dis))\n",
    "        bayes = (1 + cum_sat) / (2 + (cum_sat+ cum_dis))\n",
    "        return bayes\n",
    "    \n",
    "    def ballot_stuffing_with_init(self, attacker_id, n_fake_t=15, n_colluders=4, n_victims=3):\n",
    "        p = self.producers[attacker_id]\n",
    "        print(p.id)\n",
    "        for _, c in self.consumers.items():\n",
    "            for _, p in self.producers.items():\n",
    "                if c.id == 100:\n",
    "                    if p.id == attacker_id:\n",
    "                        print(c.id)\n",
    "                        self.agree(c, p, n_fake_t)\n",
    "                    if p.id == 201:\n",
    "                        self.p_agree_c_disagree(c, p, 1)\n",
    "                        self.disagree(c, p, 9)\n",
    "                    if p.id == 202:\n",
    "                        self.p_agree_c_disagree(c, p, 2)\n",
    "                        self.disagree(c, p, 8)\n",
    "                    if p.id == 203:\n",
    "                        self.p_agree_c_disagree(c, p, 1)\n",
    "                        self.disagree(c, p, 9)\n",
    "                    if p.id == 204:\n",
    "                        self.p_agree_c_disagree(c, p, 2)\n",
    "                        self.disagree(c, p, 8)\n",
    "                elif c.id == 101:\n",
    "                    if p.id == attacker_id:\n",
    "                        print(c.id)\n",
    "                        self.agree(c, p, n_fake_t)\n",
    "                    if p.id == 201:\n",
    "                        self.p_agree_c_disagree(c, p, 1)\n",
    "                        self.disagree(c, p, 9)\n",
    "                    if p.id == 202:\n",
    "                        self.p_agree_c_disagree(c, p, 1)\n",
    "                        self.disagree(c, p, 9)\n",
    "                    if p.id == 203:\n",
    "                        self.p_agree_c_disagree(c, p, 2)\n",
    "                        self.disagree(c, p, 8)\n",
    "                    if p.id == 204:\n",
    "                        self.p_agree_c_disagree(c, p, 2)\n",
    "                        self.disagree(c, p, 8)\n",
    "                elif c.id == 102:\n",
    "                    if p.id == attacker_id:\n",
    "                        print(c.id)\n",
    "                        self.agree(c, p, n_fake_t)\n",
    "                    if p.id == 201:\n",
    "                        self.p_agree_c_disagree(c, p, 2)\n",
    "                        self.disagree(c, p, 8)\n",
    "                    if p.id == 202:\n",
    "                        self.p_agree_c_disagree(c, p, 2)\n",
    "                        self.disagree(c, p, 8)\n",
    "                    if p.id == 203:\n",
    "                        self.p_agree_c_disagree(c, p, 1)\n",
    "                        self.disagree(c, p, 9)\n",
    "                    if p.id == 204:\n",
    "                        self.p_agree_c_disagree(c, p, 2)\n",
    "                        self.disagree(c, p, 8)\n",
    "                elif c.id == 103:\n",
    "                    if p.id == attacker_id:\n",
    "                        print(c.id)\n",
    "                        self.agree(c, p, n_fake_t)\n",
    "                    if p.id == 201:\n",
    "                        self.p_agree_c_disagree(c, p, 1)\n",
    "                        self.disagree(c, p, 9)\n",
    "                    if p.id == 202:\n",
    "                        self.p_agree_c_disagree(c, p, 1)\n",
    "                        self.disagree(c, p, 9)\n",
    "                    if p.id == 203:\n",
    "                        self.p_agree_c_disagree(c, p, 1)\n",
    "                        self.disagree(c, p, 9)\n",
    "                    if p.id == 204:\n",
    "                        self.p_agree_c_disagree(c, p, 2)\n",
    "                        self.disagree(c, p, 8)\n",
    "                elif c.id == 104:\n",
    "                    if p.id == attacker_id:\n",
    "                        self.disagree(c, p, 1)\n",
    "                    if p.id == 201:\n",
    "                        self.agree(c, p, 5)\n",
    "                        self.p_agree_c_disagree(c, p, 1)\n",
    "                    if p.id == 202:\n",
    "                        self.p_agree_c_disagree(c, p, 1)\n",
    "                        self.disagree(c, p, 1)\n",
    "                        self.agree(c, p, 3)\n",
    "                elif c.id == 105:\n",
    "                    if p.id == attacker_id:\n",
    "                        self.disagree(c, p, 2)\n",
    "                    if p.id == 201:\n",
    "                        self.agree(c, p, 6)\n",
    "                    if p.id == 202:\n",
    "                        self.p_agree_c_disagree(c, p, 1)\n",
    "                        self.disagree(c, p, 1)\n",
    "                        self.agree(c, p, 2)\n",
    "                elif c.id == 106:\n",
    "                    if p.id == attacker_id:\n",
    "                        self.disagree(c, p, 3)\n",
    "                    if p.id == 201:\n",
    "                        self.agree(c, p, 9)\n",
    "                        self.p_agree_c_disagree(c, p, 1)\n",
    "                        self.disagree(c, p, 4)\n",
    "                    if p.id == 202:\n",
    "                        self.agree(c, p, 5)\n",
    "                elif c.id == 107:\n",
    "                    if p.id == attacker_id:\n",
    "                        self.agree(c, p, 15)\n",
    "                    if p.id == 203:\n",
    "                        self.p_agree_c_disagree(c, p, 1)\n",
    "                        self.disagree(c, p, 9)\n",
    "                    if p.id == 204:\n",
    "                        self.p_agree_c_disagree(c, p, 1)\n",
    "                        self.disagree(c, p, 9)\n",
    "                elif c.id == 108:\n",
    "                    if p.id == attacker_id:\n",
    "                        self.agree(c, p, 15)\n",
    "                    if p.id == 203:\n",
    "                        self.p_agree_c_disagree(c, p, 1)\n",
    "                        self.disagree(c, p, 9)\n",
    "                    if p.id == 204:\n",
    "                        self.p_agree_c_disagree(c, p, 1)\n",
    "                        self.disagree(c, p, 9)\n",
    "                elif c.id == 109:\n",
    "                    if p.id == attacker_id:\n",
    "                        self.disagree(c, p, 2)\n",
    "                    if p.id == 203:\n",
    "                        self.p_agree_c_disagree(c, p, 1)\n",
    "                        self.agree(c, p, 6)\n",
    "                        self.disagree(c, p, 3)\n",
    "                    if p.id == 204:\n",
    "                        self.p_agree_c_disagree(c, p, 1)\n",
    "                        self.agree(c, p, 6)\n",
    "                        self.disagree(c, p, 5)\n",
    "                elif c.id == 110:\n",
    "                    if p.id == 201:\n",
    "                        self.agree(c, p, 9)\n",
    "                    if p.id == 202:\n",
    "                        self.p_agree_c_disagree(c, p, 1)\n",
    "                        self.agree(c, p, 4)\n",
    "                        self.disagree(c, p, 3)\n",
    "                \n",
    "                \n",
    "                \n",
    "    def get_rep(self, cid, pid, reptype='rob', alpha=0.8, filter_threshold=0.3):\n",
    "        c = self.consumers[cid]\n",
    "        p = self.producers[pid]\n",
    "        if reptype=='rob':\n",
    "#             print(c.id)\n",
    "            return c.p_g_reputation(p, self.consumers, alpha, filter_threshold)\n",
    "        elif reptype=='bayes':\n",
    "            return self.bayes(self.consumers, p)\n",
    "        elif reptype=='mod':\n",
    "            return self.mod_BRS(c, p, self.consumers, self.producers, i_S = 0.5, i_D = 0.5)\n",
    "            \n",
    "    \n",
    "    def ballot_stuffing(self, attacker_id, observers_id=[], n_fake_t=70, n_colluders=1, n_victims=5):\n",
    "        colluders = []\n",
    "        p = self.producers[attacker_id]\n",
    "        few_producers =  []\n",
    "        for i in range(n_colluders):\n",
    "            colluder_id = self.consumer_id_start_range+i\n",
    "            if not observers_id in observers_id:\n",
    "                colluders.append(self.consumers[colluder_id])\n",
    "        \n",
    "        fake_per_c = int(n_fake_t/n_colluders)\n",
    "        for c in colluders:\n",
    "            self.agree(c, p, int(fake_per_c * 9/10))\n",
    "            already_victim = []\n",
    "            for i in range(n_victims):\n",
    "                pi = random.choice(self.pids)\n",
    "                p2 = self.producers[pi]\n",
    "                if p != p2 and (not p2 in already_victim):\n",
    "                    already_victim.append(p2)\n",
    "                    self.p_agree_c_disagree(c, p2, int(fake_per_c*1/10))\n",
    "                    self.disagree(c, p2, int(fake_per_c*8/10))\n",
    "                      \n",
    " \n",
    "    def bad_mouthing(self, victim, observers_id=[], n_fake_t=70, n_colluders=5, n_victims=5):\n",
    "        colluders = []\n",
    "        p = self.producers[victim]\n",
    "        for i in range(n_colluders):\n",
    "            colluder_id = self.consumer_id_start_range+i\n",
    "            if not observers_id in observers_id:\n",
    "                colluders.append(self.consumers[colluder_id])\n",
    "        fake_per_c = int(n_fake_t/n_colluders)\n",
    "        for c in colluders:\n",
    "            self.disagree(c, p, int(fake_per_c * 9/10))\n",
    "            self.p_agree_c_disagree(c, p, int(fake_per_c*4/10))\n",
    "\n",
    "                    \n",
    "\n",
    "            \n",
    "    def majority_descrimination(self, attacker, consumerid, n_consumers=1):\n",
    "        p = self.producers[attacker]\n",
    "        t = self.consumers[targetc]\n",
    "        for _, c in self.consumers.items():\n",
    "            if c.id <= 104:\n",
    "                int(self.consumer_id_start_range+ (self.consumer_id_start_range1/10))\n",
    "\n",
    "            else:\n",
    "                c.interact(p, random.uniform(0, 0.5))\n",
    "                p.interact(c, 0)\n",
    "\n",
    "                                   \n",
    "    def minority_descrimination(self, attacker, consumerid, rating=0.001, targetc=103, n_consumers=1):\n",
    "        p = self.producers[attacker]\n",
    "        t = self.consumers[targetc]\n",
    "        for _, c in self.consumers.items():\n",
    "            if c != t:\n",
    "                for x in range(self.nfaket):\n",
    "                    if c.id <= 104:\n",
    "                        c.interact(p, 0)\n",
    "                        p.interact(c, 0)\n",
    "                    else:\n",
    "                        c.interact(p, random.uniform(0.5, 1))\n",
    "                        p.interact(c, random.uniform(0.5, 1))\n",
    "        \n",
    "    \n",
    "    def plot(self, targetu, targetp, dlen=30):\n",
    "        import matplotlib.pyplot as plt\n",
    "        import numpy as np\n",
    "        \n",
    "        u_d = self.graphdata[targetu]\n",
    "        len(u_d)\n",
    "        p_d = u_d[targetp]\n",
    "        print(len(p_d))\n",
    "        \n",
    "        u_d_b = self.graphdata_bayes[targetu]\n",
    "        p_d_b = u_d_b[targetp]\n",
    "        print(len(p_d_b))\n",
    "        \n",
    "        u_d_m = self.graphdata_modBRS[targetu]\n",
    "        p_d_m = u_d_m[targetp]\n",
    "        \n",
    "        p_d = p_d\n",
    "        p_d_b = p_d_b\n",
    "        p_d_m = p_d_m\n",
    "        print(len(p_d_m))\n",
    "\n",
    "#         print(p_d)\n",
    "        # Prepare the data\n",
    "        x = np.linspace(0, len(p_d), len(p_d))\n",
    "        x_b = np.linspace(0, len(p_d_b), len(p_d_b))\n",
    "        x_m = np.linspace(0, len(p_d_b), len(p_d_b))\n",
    "\n",
    "        # Plot the data\n",
    "        plt.plot(x_b, p_d_b, alpha=0.7, label='Bayes')\n",
    "        plt.plot(x, p_d, alpha=0.7, label='ROBUSTRA')\n",
    "        plt.plot(x_m, p_d_m, alpha=0.3, label='modBRS')\n",
    "\n",
    "        # Add a legend\n",
    "        plt.legend()\n",
    "\n",
    "        # Show the plot\n",
    "        plt.show()\n",
    "        "
   ]
  },
  {
   "cell_type": "code",
   "execution_count": 28,
   "metadata": {},
   "outputs": [
    {
     "name": "stdout",
     "output_type": "stream",
     "text": [
      "experiment0 initialised with20 c and 10 p\n"
     ]
    }
   ],
   "source": [
    "scenario = 0\n",
    "n_consumers = 20\n",
    "n_producers = 10\n",
    "n_transactions = 100\n",
    "seed = 100\n",
    "\n",
    "\n",
    "%matplotlib inline\n",
    "\n",
    "exp1 = Experiment(scenario, n_consumers, n_producers, n_transactions,seed)"
   ]
  },
  {
   "cell_type": "code",
   "execution_count": 23,
   "metadata": {},
   "outputs": [],
   "source": [
    "# exp1.ballot_stuffing_with_init(200, n_fake_t=15, n_colluders=1, n_victims=5)"
   ]
  },
  {
   "cell_type": "code",
   "execution_count": 29,
   "metadata": {},
   "outputs": [
    {
     "name": "stdout",
     "output_type": "stream",
     "text": [
      "initalizing 0  with100 t_per_user for 20 c\n",
      "2000\n"
     ]
    }
   ],
   "source": [
    "exp1.i_transactions([(101,203)], [(101,203)], True, 100)\n",
    "# exp1.i_transactions([(101,204)], [(101,204)], True, 100)\n",
    "# exclude_pair=[], pair_list =[], target=False,\n"
   ]
  },
  {
   "cell_type": "code",
   "execution_count": 30,
   "metadata": {},
   "outputs": [
    {
     "name": "stdout",
     "output_type": "stream",
     "text": [
      "1990\n",
      "1990\n",
      "1990\n"
     ]
    },
    {
     "data": {
      "image/png": "[encoded data removed]",
      "text/plain": [
       "<Figure size 432x288 with 1 Axes>"
      ]
     },
     "metadata": {
      "needs_background": "light"
     },
     "output_type": "display_data"
    }
   ],
   "source": [
    "exp1.plot(101,203)"
   ]
  },
  {
   "cell_type": "code",
   "execution_count": 31,
   "metadata": {},
   "outputs": [
    {
     "data": {
      "text/plain": [
       "0.17602547934835022"
      ]
     },
     "execution_count": 31,
     "metadata": {},
     "output_type": "execute_result"
    }
   ],
   "source": [
    "exp1.get_rep(101, 203, reptype='rob', alpha=0.8, filter_threshold=0.5)"
   ]
  },
  {
   "cell_type": "code",
   "execution_count": 33,
   "metadata": {},
   "outputs": [],
   "source": [
    "exp1.bad_mouthing(203, observers_id=[101], n_fake_t=500, n_colluders=5, n_victims=1)"
   ]
  },
  {
   "cell_type": "code",
   "execution_count": 34,
   "metadata": {},
   "outputs": [
    {
     "name": "stdout",
     "output_type": "stream",
     "text": [
      "2640\n",
      "2640\n",
      "2640\n"
     ]
    },
    {
     "data": {
      "image/png": "[encoded data removed]",
      "text/plain": [
       "<Figure size 432x288 with 1 Axes>"
      ]
     },
     "metadata": {
      "needs_background": "light"
     },
     "output_type": "display_data"
    }
   ],
   "source": [
    "exp1.plot(101,203)"
   ]
  },
  {
   "cell_type": "code",
   "execution_count": 16,
   "metadata": {},
   "outputs": [
    {
     "name": "stdout",
     "output_type": "stream",
     "text": [
      "1993\n",
      "1993\n",
      "1993\n"
     ]
    },
    {
     "data": {
      "image/png": "[encoded data removed]",
      "text/plain": [
       "<Figure size 432x288 with 1 Axes>"
      ]
     },
     "metadata": {
      "needs_background": "light"
     },
     "output_type": "display_data"
    }
   ],
   "source": [
    "exp1.plot(101,204)"
   ]
  },
  {
   "cell_type": "code",
   "execution_count": 467,
   "metadata": {},
   "outputs": [
    {
     "data": {
      "text/plain": [
       "0.18381834333182315"
      ]
     },
     "execution_count": 467,
     "metadata": {},
     "output_type": "execute_result"
    }
   ],
   "source": [
    "exp1.get_rep(101, 204, reptype='rob', alpha=0.8, filter_threshold=0.5)"
   ]
  },
  {
   "cell_type": "code",
   "execution_count": 17,
   "metadata": {},
   "outputs": [],
   "source": [
    "exp1.ballot_stuffing(204, observers_id=[101], n_fake_t=500, n_colluders=3, n_victims=3)"
   ]
  },
  {
   "cell_type": "code",
   "execution_count": 18,
   "metadata": {},
   "outputs": [
    {
     "name": "stdout",
     "output_type": "stream",
     "text": [
      "3476\n",
      "3476\n",
      "3476\n"
     ]
    },
    {
     "data": {
      "image/png": "[encoded data removed]",
      "text/plain": [
       "<Figure size 432x288 with 1 Axes>"
      ]
     },
     "metadata": {
      "needs_background": "light"
     },
     "output_type": "display_data"
    }
   ],
   "source": [
    "exp1.plot(101,204)"
   ]
  },
  {
   "cell_type": "code",
   "execution_count": 10,
   "metadata": {},
   "outputs": [],
   "source": [
    "exp1.ballot_stuffing(204, observers_id=[101], n_fake_t=500, n_colluders=1, n_victims=3)"
   ]
  },
  {
   "cell_type": "code",
   "execution_count": 11,
   "metadata": {},
   "outputs": [
    {
     "name": "stdout",
     "output_type": "stream",
     "text": [
      "3343\n",
      "3343\n",
      "3343\n"
     ]
    },
    {
     "data": {
      "image/png": "[encoded data removed]",
      "text/plain": [
       "<Figure size 432x288 with 1 Axes>"
      ]
     },
     "metadata": {
      "needs_background": "light"
     },
     "output_type": "display_data"
    }
   ],
   "source": [
    "exp1.plot(101,204)"
   ]
  },
  {
   "cell_type": "code",
   "execution_count": 410,
   "metadata": {},
   "outputs": [
    {
     "data": {
      "text/plain": [
       "1993"
      ]
     },
     "execution_count": 410,
     "metadata": {},
     "output_type": "execute_result"
    }
   ],
   "source": [
    "exp1.total_transactions_for_all"
   ]
  },
  {
   "cell_type": "code",
   "execution_count": 411,
   "metadata": {},
   "outputs": [
    {
     "data": {
      "text/plain": [
       "93"
      ]
     },
     "execution_count": 411,
     "metadata": {},
     "output_type": "execute_result"
    }
   ],
   "source": [
    "exp1.consumers[101].total_interactions"
   ]
  },
  {
   "cell_type": "code",
   "execution_count": 412,
   "metadata": {},
   "outputs": [],
   "source": [
    "# exp1.get_rep(110, 200, reptype='mod')"
   ]
  },
  {
   "cell_type": "code",
   "execution_count": 413,
   "metadata": {},
   "outputs": [
    {
     "data": {
      "text/plain": [
       "0.2178155814637809"
      ]
     },
     "execution_count": 413,
     "metadata": {},
     "output_type": "execute_result"
    }
   ],
   "source": [
    "exp1.get_rep(101, 204, reptype='mod')"
   ]
  },
  {
   "cell_type": "code",
   "execution_count": 414,
   "metadata": {},
   "outputs": [],
   "source": [
    "# exp1.get_rep(110, 200, reptype='bayes')"
   ]
  },
  {
   "cell_type": "code",
   "execution_count": 415,
   "metadata": {},
   "outputs": [
    {
     "data": {
      "text/plain": [
       "0.32195121951219513"
      ]
     },
     "execution_count": 415,
     "metadata": {},
     "output_type": "execute_result"
    }
   ],
   "source": [
    "exp1.get_rep(101, 204, reptype='bayes')"
   ]
  },
  {
   "cell_type": "code",
   "execution_count": 416,
   "metadata": {},
   "outputs": [],
   "source": [
    "# exp1.get_rep(110, 200, reptype='rob', alpha=0.8, filter_threshold=0.4)"
   ]
  },
  {
   "cell_type": "code",
   "execution_count": 417,
   "metadata": {},
   "outputs": [
    {
     "data": {
      "text/plain": [
       "0.18381834333182315"
      ]
     },
     "execution_count": 417,
     "metadata": {},
     "output_type": "execute_result"
    }
   ],
   "source": [
    "exp1.get_rep(101, 204, reptype='rob', alpha=0.8, filter_threshold=0.5)"
   ]
  },
  {
   "cell_type": "code",
   "execution_count": null,
   "metadata": {},
   "outputs": [],
   "source": []
  },
  {
   "cell_type": "code",
   "execution_count": null,
   "metadata": {},
   "outputs": [],
   "source": []
  },
  {
   "cell_type": "code",
   "execution_count": null,
   "metadata": {},
   "outputs": [],
   "source": []
  }
 ],
 "metadata": {
  "kernelspec": {
   "display_name": "anaka",
   "language": "python",
   "name": "anaka"
  },
  "language_info": {
   "codemirror_mode": {
    "name": "ipython",
    "version": 3
   },
   "file_extension": ".py",
   "mimetype": "text/x-python",
   "name": "python",
   "nbconvert_exporter": "python",
   "pygments_lexer": "ipython3",
   "version": "3.8.5"
  }
 },
 "nbformat": 4,
 "nbformat_minor": 4
}
